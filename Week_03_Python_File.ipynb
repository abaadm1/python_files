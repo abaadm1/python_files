{
  "nbformat": 4,
  "nbformat_minor": 0,
  "metadata": {
    "colab": {
      "provenance": []
    },
    "kernelspec": {
      "name": "python3",
      "display_name": "Python 3"
    },
    "language_info": {
      "name": "python"
    }
  },
  "cells": [
    {
      "cell_type": "markdown",
      "source": [
        "## Lists"
      ],
      "metadata": {
        "id": "7jvMUO4k8icW"
      }
    },
    {
      "cell_type": "code",
      "execution_count": 11,
      "metadata": {
        "colab": {
          "base_uri": "https://localhost:8080/"
        },
        "id": "xCjxtTFfQ4Vd",
        "outputId": "f629e776-c514-4919-be5e-10bf747f7c6c"
      },
      "outputs": [
        {
          "output_type": "stream",
          "name": "stdout",
          "text": [
            "['apple', 'orange', 'banana', 'cherry', 'kiwi']\n"
          ]
        }
      ],
      "source": [
        "#Creating a list\n",
        "fruits = [\"apple\", \"orange\", \"banana\", \"cherry\", \"kiwi\"]\n",
        "print(fruits)"
      ]
    },
    {
      "cell_type": "code",
      "source": [
        "#Verifying Data type\n",
        "print(type(fruits))"
      ],
      "metadata": {
        "colab": {
          "base_uri": "https://localhost:8080/"
        },
        "id": "Cxzj5jbHW0bs",
        "outputId": "b83392d5-8bd3-419c-f63d-fb9c422cc6a2"
      },
      "execution_count": 12,
      "outputs": [
        {
          "output_type": "stream",
          "name": "stdout",
          "text": [
            "<class 'list'>\n"
          ]
        }
      ]
    },
    {
      "cell_type": "code",
      "source": [
        "#indexing (always starts from 0)\n",
        "print(fruits[3])"
      ],
      "metadata": {
        "colab": {
          "base_uri": "https://localhost:8080/"
        },
        "id": "j5t28-luW8lB",
        "outputId": "ada793cb-75de-4f8b-a81e-08df81424404"
      },
      "execution_count": 14,
      "outputs": [
        {
          "output_type": "stream",
          "name": "stdout",
          "text": [
            "cherry\n"
          ]
        }
      ]
    },
    {
      "cell_type": "code",
      "source": [
        "#Defining a list with all elements integer\n",
        "numbers = [1, 2, 4, 7, 9, 10]\n",
        "print(numbers)"
      ],
      "metadata": {
        "colab": {
          "base_uri": "https://localhost:8080/"
        },
        "id": "9b6a1VEzXMvb",
        "outputId": "025b6d3a-29e8-4393-aefb-7c20114b139a"
      },
      "execution_count": 15,
      "outputs": [
        {
          "output_type": "stream",
          "name": "stdout",
          "text": [
            "[1, 2, 4, 7, 9, 10]\n"
          ]
        }
      ]
    },
    {
      "cell_type": "code",
      "source": [
        "print(numbers[4])"
      ],
      "metadata": {
        "colab": {
          "base_uri": "https://localhost:8080/"
        },
        "id": "d8_ExjCdXTsK",
        "outputId": "957813b4-abad-4132-a8fb-97ffd639e28b"
      },
      "execution_count": 17,
      "outputs": [
        {
          "output_type": "stream",
          "name": "stdout",
          "text": [
            "9\n"
          ]
        }
      ]
    },
    {
      "cell_type": "code",
      "source": [
        "#Defining a list with mixed data type elements\n",
        "mixed_list = [\"Abaad\", 24, True, 5.4]\n",
        "print(mixed_list)\n",
        "print(type(mixed_list))"
      ],
      "metadata": {
        "colab": {
          "base_uri": "https://localhost:8080/"
        },
        "id": "x1jNkrnyXfFd",
        "outputId": "dd032608-0413-417e-b6fc-371ad8b2fdb4"
      },
      "execution_count": 19,
      "outputs": [
        {
          "output_type": "stream",
          "name": "stdout",
          "text": [
            "['Abaad', 24, True, 5.4]\n",
            "<class 'list'>\n"
          ]
        }
      ]
    },
    {
      "cell_type": "code",
      "source": [
        "print(mixed_list[0])\n",
        "print(type(mixed_list[0]))\n",
        "\n",
        "\n",
        "print(mixed_list[1])\n",
        "print(type(mixed_list[1]))\n",
        "\n",
        "\n",
        "print(mixed_list[2])\n",
        "print(type(mixed_list[2]))\n",
        "\n",
        "print(mixed_list[3])\n",
        "print(type(mixed_list[3]))"
      ],
      "metadata": {
        "colab": {
          "base_uri": "https://localhost:8080/"
        },
        "id": "dz3zFLe4Xsmd",
        "outputId": "bfd0ba86-adc9-49f2-ecb6-c5b8ff0671d9"
      },
      "execution_count": 23,
      "outputs": [
        {
          "output_type": "stream",
          "name": "stdout",
          "text": [
            "Abaad\n",
            "<class 'str'>\n",
            "24\n",
            "<class 'int'>\n",
            "True\n",
            "<class 'bool'>\n",
            "5.4\n",
            "<class 'float'>\n"
          ]
        }
      ]
    },
    {
      "cell_type": "code",
      "source": [
        "#Trying different ways to print\n",
        "print(mixed_list[0])\n",
        "print(type(mixed_list[0]))\n",
        "\n",
        "\n",
        "print(f\"The first element of list is {mixed_list[0]} and its data type is {type(mixed_list[0])} \")\n",
        "print(\"The first element of list is \", mixed_list[0], \" and its data type is \", type(mixed_list[0]))"
      ],
      "metadata": {
        "colab": {
          "base_uri": "https://localhost:8080/"
        },
        "id": "e-87Dr3sZmY0",
        "outputId": "8fe54f2a-6a46-4f41-e847-be475787bf0e"
      },
      "execution_count": 35,
      "outputs": [
        {
          "output_type": "stream",
          "name": "stdout",
          "text": [
            "Abaad\n",
            "<class 'str'>\n",
            "The first element of list is Abaad and its data type is <class 'str'> \n",
            "The first element of list is  Abaad  and its data type is  <class 'str'>\n"
          ]
        }
      ]
    },
    {
      "cell_type": "markdown",
      "source": [
        "## Modifying Lists"
      ],
      "metadata": {
        "id": "Fusn0jBT9K8D"
      }
    },
    {
      "cell_type": "code",
      "source": [
        "#Defining a list of names\n",
        "names = [\"mariam\", \"saadia\", \"tahira\", \"sania\"]\n",
        "print(names)"
      ],
      "metadata": {
        "colab": {
          "base_uri": "https://localhost:8080/"
        },
        "id": "38knDnb_aRIN",
        "outputId": "8c87a54c-296e-48cd-ba35-6c518494fd33"
      },
      "execution_count": 49,
      "outputs": [
        {
          "output_type": "stream",
          "name": "stdout",
          "text": [
            "['mariam', 'saadia', 'tahira', 'sania']\n"
          ]
        }
      ]
    },
    {
      "cell_type": "code",
      "source": [
        "#Adding element to the last of the list\n",
        "names.append(\"maryam\")\n",
        "print(names)"
      ],
      "metadata": {
        "colab": {
          "base_uri": "https://localhost:8080/"
        },
        "id": "agNBUpaBakDv",
        "outputId": "61730b45-d4a3-404b-89a0-c3837fcfeea9"
      },
      "execution_count": 50,
      "outputs": [
        {
          "output_type": "stream",
          "name": "stdout",
          "text": [
            "['mariam', 'saadia', 'tahira', 'sania', 'maryam']\n"
          ]
        }
      ]
    },
    {
      "cell_type": "code",
      "source": [
        "#Insert/Add new element at a position/index\n",
        "names.insert(2, \"new name\")"
      ],
      "metadata": {
        "id": "0bq6qSGOawaj"
      },
      "execution_count": 51,
      "outputs": []
    },
    {
      "cell_type": "code",
      "source": [
        "print(names)"
      ],
      "metadata": {
        "colab": {
          "base_uri": "https://localhost:8080/"
        },
        "id": "vF8g6KeobmRB",
        "outputId": "e8060d1b-9e71-4e6e-b055-0addd8da6f61"
      },
      "execution_count": 52,
      "outputs": [
        {
          "output_type": "stream",
          "name": "stdout",
          "text": [
            "['mariam', 'saadia', 'new name', 'tahira', 'sania', 'maryam']\n"
          ]
        }
      ]
    },
    {
      "cell_type": "code",
      "source": [
        "names.insert(2, \"abaad\")"
      ],
      "metadata": {
        "id": "VlaLWXz_btYu"
      },
      "execution_count": 54,
      "outputs": []
    },
    {
      "cell_type": "code",
      "source": [
        "print(names)"
      ],
      "metadata": {
        "colab": {
          "base_uri": "https://localhost:8080/"
        },
        "id": "d64cn5Uhbwpr",
        "outputId": "8fa104c2-96a1-4ba9-8f1e-9976b9265c11"
      },
      "execution_count": 55,
      "outputs": [
        {
          "output_type": "stream",
          "name": "stdout",
          "text": [
            "['mariam', 'saadia', 'abaad', 'abaad', 'new name', 'tahira', 'sania', 'maryam']\n"
          ]
        }
      ]
    },
    {
      "cell_type": "code",
      "source": [
        "#Remove elements from the last of a list\n",
        "names.pop()\n",
        "print(names)"
      ],
      "metadata": {
        "colab": {
          "base_uri": "https://localhost:8080/"
        },
        "id": "ROcYWWWwb5h5",
        "outputId": "7794a2d7-e871-4c92-d468-20c459ac2313"
      },
      "execution_count": 56,
      "outputs": [
        {
          "output_type": "stream",
          "name": "stdout",
          "text": [
            "['mariam', 'saadia', 'abaad', 'abaad', 'new name', 'tahira', 'sania']\n"
          ]
        }
      ]
    },
    {
      "cell_type": "code",
      "source": [
        "names.pop()\n",
        "print(names)"
      ],
      "metadata": {
        "colab": {
          "base_uri": "https://localhost:8080/"
        },
        "id": "xVX9hOdSb5q2",
        "outputId": "6096b8a3-0e3e-45a8-cfc2-b0c98ec77088"
      },
      "execution_count": 57,
      "outputs": [
        {
          "output_type": "stream",
          "name": "stdout",
          "text": [
            "['mariam', 'saadia', 'abaad', 'abaad', 'new name', 'tahira']\n"
          ]
        }
      ]
    },
    {
      "cell_type": "code",
      "source": [
        "#Remove element from a specific position\n",
        "names.remove(\"abaad\")\n",
        "print(names)"
      ],
      "metadata": {
        "colab": {
          "base_uri": "https://localhost:8080/"
        },
        "id": "qPa77CLbb5w3",
        "outputId": "135f1f3e-02ac-43f3-eb26-f7d326fc5650"
      },
      "execution_count": 59,
      "outputs": [
        {
          "output_type": "stream",
          "name": "stdout",
          "text": [
            "['mariam', 'saadia', 'abaad', 'new name', 'tahira']\n"
          ]
        }
      ]
    },
    {
      "cell_type": "code",
      "source": [
        "#Getting the number of elements in a list\n",
        "print(len(names))"
      ],
      "metadata": {
        "colab": {
          "base_uri": "https://localhost:8080/"
        },
        "id": "in1v8I5_dCUf",
        "outputId": "01fa49ba-7f8c-420c-aff9-46bc85ceba4e"
      },
      "execution_count": 60,
      "outputs": [
        {
          "output_type": "stream",
          "name": "stdout",
          "text": [
            "5\n"
          ]
        }
      ]
    },
    {
      "cell_type": "code",
      "source": [
        "names.append(\"new student\")"
      ],
      "metadata": {
        "id": "ubXldRFYdJkF"
      },
      "execution_count": 61,
      "outputs": []
    },
    {
      "cell_type": "code",
      "source": [
        "print(len(names))"
      ],
      "metadata": {
        "colab": {
          "base_uri": "https://localhost:8080/"
        },
        "id": "VdIeWC5vdMv8",
        "outputId": "acc1bdc7-7e99-41b4-c159-72ca700aab1f"
      },
      "execution_count": 62,
      "outputs": [
        {
          "output_type": "stream",
          "name": "stdout",
          "text": [
            "6\n"
          ]
        }
      ]
    },
    {
      "cell_type": "code",
      "source": [
        "print(names)"
      ],
      "metadata": {
        "colab": {
          "base_uri": "https://localhost:8080/"
        },
        "id": "9r1_7aAjdP5n",
        "outputId": "9acd5100-743e-4665-e843-039fcaaceb31"
      },
      "execution_count": 63,
      "outputs": [
        {
          "output_type": "stream",
          "name": "stdout",
          "text": [
            "['mariam', 'saadia', 'abaad', 'new name', 'tahira', 'new student']\n"
          ]
        }
      ]
    },
    {
      "cell_type": "code",
      "source": [],
      "metadata": {
        "id": "qEBElJ9idb_B"
      },
      "execution_count": null,
      "outputs": []
    },
    {
      "cell_type": "code",
      "source": [
        "course = [\"graphic designing\", \"project management\", \"python programmmmming\"]"
      ],
      "metadata": {
        "id": "EYklZcUNdcQ-"
      },
      "execution_count": 64,
      "outputs": []
    },
    {
      "cell_type": "code",
      "source": [
        "#changing/updating existing value of elements\n",
        "course[2] = \"python programming\"\n",
        "print(course)"
      ],
      "metadata": {
        "colab": {
          "base_uri": "https://localhost:8080/"
        },
        "id": "3dLJNQfidtQE",
        "outputId": "709b58e9-a735-40fc-ac41-82cb12440e38"
      },
      "execution_count": 65,
      "outputs": [
        {
          "output_type": "stream",
          "name": "stdout",
          "text": [
            "['graphic designing', 'project management', 'python programming']\n"
          ]
        }
      ]
    },
    {
      "cell_type": "code",
      "source": [
        "#Stoeing element of a list in a new variable (Getting Values)\n",
        "vege = [\"tomato\", \"potato\", \"peas\", \"lemon\"]\n",
        "\n",
        "my_fav_vegetable = vege[1]\n",
        "print(my_fav_vegetable)"
      ],
      "metadata": {
        "id": "QceUZkS0eCoo"
      },
      "execution_count": null,
      "outputs": []
    },
    {
      "cell_type": "code",
      "source": [
        "# list1 = [\"name\", \"age\", \"height\"] --> list1 = [\"Sara\", \"32\", \"5.7\"]\n",
        "\n",
        "# This snippet creates a list containing strings \"name\", \"age\", and \"height\".\n",
        "# This is just a list of attribute names, not actual data. Therefore, it is not\n",
        "# suitable for storing varied personal data for individuals because it does not\n",
        "# associate these attributes with any specific values or persons. A dictionary\n",
        "# or a class would be better suited for such purposes as they allow pairing these\n",
        "# attributes with specific values.\n",
        "\n"
      ],
      "metadata": {
        "colab": {
          "base_uri": "https://localhost:8080/"
        },
        "id": "oGgCx8pdeSv7",
        "outputId": "dff97da7-259d-40c0-e715-b17e14ba56c0"
      },
      "execution_count": 66,
      "outputs": [
        {
          "output_type": "execute_result",
          "data": {
            "text/plain": [
              "['abaad']"
            ]
          },
          "metadata": {},
          "execution_count": 66
        }
      ]
    },
    {
      "cell_type": "code",
      "source": [
        "# list2 = [\"name1\", \"name2\", \"name3\" ....] --> list2 = [\"Sara\", \"Sana\", \"Saima\"]\n",
        "\n",
        "# This example shows a list being used to store the names of 200 people.\n",
        "# In this case, using a list is appropriate because it is simply a collection\n",
        "# of names, which are uniformly strings. A list is a suitable choice for this\n",
        "# type of homogeneous data collection where each item (name) has the same data\n",
        "# type and represents a similar kind of information."
      ],
      "metadata": {
        "id": "MX0ooui1-ZYz"
      },
      "execution_count": null,
      "outputs": []
    },
    {
      "cell_type": "markdown",
      "source": [
        "## Tuples"
      ],
      "metadata": {
        "id": "lRwr67J8-viL"
      }
    },
    {
      "cell_type": "code",
      "source": [
        "#Defining a Tuple\n",
        "my_tuple = (1, 2, 3, 4, 7, 8, 9)\n",
        "print(my_tuple)"
      ],
      "metadata": {
        "colab": {
          "base_uri": "https://localhost:8080/"
        },
        "id": "zRJWpWS5gShg",
        "outputId": "c409b4b7-5641-497b-d3b1-828fd65222dd"
      },
      "execution_count": 68,
      "outputs": [
        {
          "output_type": "stream",
          "name": "stdout",
          "text": [
            "(1, 2, 3, 4, 7, 8, 9)\n"
          ]
        }
      ]
    },
    {
      "cell_type": "code",
      "source": [
        "#Getting the number of elements in a tuple\n",
        "print(len(my_tuple))"
      ],
      "metadata": {
        "colab": {
          "base_uri": "https://localhost:8080/"
        },
        "id": "ZxhFsG2RgeWK",
        "outputId": "66556117-ba8c-4722-c149-f0b204086321"
      },
      "execution_count": 69,
      "outputs": [
        {
          "output_type": "stream",
          "name": "stdout",
          "text": [
            "7\n"
          ]
        }
      ]
    },
    {
      "cell_type": "code",
      "source": [
        "#Verifying if tuples are really immutable?\n",
        "my_tuple.pop()\n",
        "print(my_tuple) #Tuple is immutable"
      ],
      "metadata": {
        "colab": {
          "base_uri": "https://localhost:8080/",
          "height": 158
        },
        "id": "ULaLELs2gmgL",
        "outputId": "ecc85b63-dc63-4fc1-c522-e799c49aea0c"
      },
      "execution_count": 71,
      "outputs": [
        {
          "output_type": "error",
          "ename": "AttributeError",
          "evalue": "'tuple' object has no attribute 'pop'",
          "traceback": [
            "\u001b[0;31m---------------------------------------------------------------------------\u001b[0m",
            "\u001b[0;31mAttributeError\u001b[0m                            Traceback (most recent call last)",
            "\u001b[0;32m<ipython-input-71-ae3b4e0b0b1e>\u001b[0m in \u001b[0;36m<cell line: 1>\u001b[0;34m()\u001b[0m\n\u001b[0;32m----> 1\u001b[0;31m \u001b[0mmy_tuple\u001b[0m\u001b[0;34m.\u001b[0m\u001b[0mpop\u001b[0m\u001b[0;34m(\u001b[0m\u001b[0;34m)\u001b[0m\u001b[0;34m\u001b[0m\u001b[0;34m\u001b[0m\u001b[0m\n\u001b[0m\u001b[1;32m      2\u001b[0m \u001b[0mprint\u001b[0m\u001b[0;34m(\u001b[0m\u001b[0mmy_tuple\u001b[0m\u001b[0;34m)\u001b[0m\u001b[0;34m\u001b[0m\u001b[0;34m\u001b[0m\u001b[0m\n",
            "\u001b[0;31mAttributeError\u001b[0m: 'tuple' object has no attribute 'pop'"
          ]
        }
      ]
    },
    {
      "cell_type": "code",
      "source": [
        "#Concatenation\n",
        "tuple1= (\"a\", \"b\", \"c\")\n",
        "tuple2= ('x', 'y', 'z')\n",
        "\n",
        "tuple3 = tuple1 + tuple2\n",
        "print(tuple3)"
      ],
      "metadata": {
        "colab": {
          "base_uri": "https://localhost:8080/"
        },
        "id": "8EkbClfsgthG",
        "outputId": "3d1ef9e7-ef29-4316-efd9-e35842643220"
      },
      "execution_count": 84,
      "outputs": [
        {
          "output_type": "stream",
          "name": "stdout",
          "text": [
            "('a', 'b', 'c', 'x', 'y', 'z')\n"
          ]
        }
      ]
    },
    {
      "cell_type": "code",
      "source": [
        "tuple1"
      ],
      "metadata": {
        "colab": {
          "base_uri": "https://localhost:8080/"
        },
        "id": "JuOKQ-4PjyJr",
        "outputId": "8e2e0a28-3f64-4da6-b9ba-3a5b3a58f2ee"
      },
      "execution_count": 79,
      "outputs": [
        {
          "output_type": "execute_result",
          "data": {
            "text/plain": [
              "('a', 'b', 'c', 'x', 'y', 'z')"
            ]
          },
          "metadata": {},
          "execution_count": 79
        }
      ]
    },
    {
      "cell_type": "code",
      "source": [
        "#Repition\n",
        "tuple1 = ('a', 'b', 'c')\n",
        "\n",
        "tuple1 = tuple1 * 10\n",
        "print(tuple1)"
      ],
      "metadata": {
        "colab": {
          "base_uri": "https://localhost:8080/"
        },
        "id": "UCafEXFYiIP0",
        "outputId": "55b45876-167a-465e-ddb7-72db7077d5b2"
      },
      "execution_count": 74,
      "outputs": [
        {
          "output_type": "stream",
          "name": "stdout",
          "text": [
            "('a', 'b', 'c', 'a', 'b', 'c', 'a', 'b', 'c', 'a', 'b', 'c', 'a', 'b', 'c', 'a', 'b', 'c', 'a', 'b', 'c', 'a', 'b', 'c', 'a', 'b', 'c', 'a', 'b', 'c')\n"
          ]
        }
      ]
    },
    {
      "cell_type": "code",
      "source": [
        "tuple2= (1, 2, 3)\n",
        "\n",
        "tuple2 = tuple2 * 5\n",
        "print(tuple2)"
      ],
      "metadata": {
        "colab": {
          "base_uri": "https://localhost:8080/"
        },
        "id": "JqBjca8NiHff",
        "outputId": "5eced058-15be-4b7a-d400-cec2451ece93"
      },
      "execution_count": 76,
      "outputs": [
        {
          "output_type": "stream",
          "name": "stdout",
          "text": [
            "(1, 2, 3, 1, 2, 3, 1, 2, 3, 1, 2, 3, 1, 2, 3)\n"
          ]
        }
      ]
    },
    {
      "cell_type": "code",
      "source": [
        "new_tuple = (1,2, 6,3,4,1,\"abc\",2,4,8,6,8,1,1,1,3, 6, \"abc\")"
      ],
      "metadata": {
        "id": "7CEqhFvxkPLU"
      },
      "execution_count": 94,
      "outputs": []
    },
    {
      "cell_type": "code",
      "source": [
        "# Counting the occurrences of the number 8 in the tuple 'new_tuple'\n",
        "print(new_tuple.count(8))\n"
      ],
      "metadata": {
        "colab": {
          "base_uri": "https://localhost:8080/"
        },
        "id": "uGRSf9REkPSa",
        "outputId": "83b4322c-1f80-4efe-a651-518885aa6061"
      },
      "execution_count": 87,
      "outputs": [
        {
          "output_type": "stream",
          "name": "stdout",
          "text": [
            "2\n"
          ]
        }
      ]
    },
    {
      "cell_type": "code",
      "source": [
        "# Finding the index of the string \"abc\" in the tuple 'new_tuple'\n",
        "print(new_tuple.index(\"abc\"))\n"
      ],
      "metadata": {
        "colab": {
          "base_uri": "https://localhost:8080/"
        },
        "id": "cZYY9GlDkPaq",
        "outputId": "2c05ebf1-2e05-4e73-91aa-2734945d5e77"
      },
      "execution_count": 96,
      "outputs": [
        {
          "output_type": "stream",
          "name": "stdout",
          "text": [
            "6\n"
          ]
        }
      ]
    },
    {
      "cell_type": "code",
      "source": [
        "#Membership Testing\n",
        "List4 = [1, 2, 3, \"a\", \"b\", \"c\"]\n",
        "\n",
        "print(\"a\" in List4)"
      ],
      "metadata": {
        "colab": {
          "base_uri": "https://localhost:8080/"
        },
        "id": "SzeuzvI4ltML",
        "outputId": "4c37a6be-cca7-4bb3-b38c-db4b70848ba4"
      },
      "execution_count": 103,
      "outputs": [
        {
          "output_type": "stream",
          "name": "stdout",
          "text": [
            "True\n"
          ]
        }
      ]
    },
    {
      "cell_type": "markdown",
      "source": [
        "## Practice"
      ],
      "metadata": {
        "id": "80DzdA3a_eE0"
      }
    },
    {
      "cell_type": "code",
      "source": [
        "even_numbers = [2, 4, 6, 8, 10]\n",
        "odd_numbers = [1, 3, 5 ,7 ,9]\n",
        "\n",
        "combined_numbers = even_numbers + odd_numbers\n",
        "print(combined_numbers)"
      ],
      "metadata": {
        "colab": {
          "base_uri": "https://localhost:8080/"
        },
        "id": "fUdbIrY-mp15",
        "outputId": "882dd455-9b06-46f0-a16f-d06367173f55"
      },
      "execution_count": 106,
      "outputs": [
        {
          "output_type": "stream",
          "name": "stdout",
          "text": [
            "[2, 4, 6, 8, 10, 1, 3, 5, 7, 9]\n"
          ]
        }
      ]
    },
    {
      "cell_type": "code",
      "source": [
        "my_free_time = (\"saturday\", \"sunday\")\n",
        "\n",
        "friends_day = input(\"Enter day:\")\n",
        "\n",
        "if friends_day in my_free_time:\n",
        "  print(\"Lets meet!\")\n",
        "else:\n",
        "  print(\"plan any other day\")\n",
        "\n",
        "my_free_time.append(\"monday\")"
      ],
      "metadata": {
        "colab": {
          "base_uri": "https://localhost:8080/"
        },
        "id": "g58eoQg4nQIW",
        "outputId": "45e6815f-f33d-4bd3-d0ea-d57357ec9e76"
      },
      "execution_count": 108,
      "outputs": [
        {
          "output_type": "stream",
          "name": "stdout",
          "text": [
            "Enter day:saturday\n",
            "Lets meet!\n"
          ]
        }
      ]
    }
  ]
}