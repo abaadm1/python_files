{
  "cells": [
    {
      "cell_type": "markdown",
      "id": "58beba79",
      "metadata": {
        "id": "58beba79"
      },
      "source": [
        "# Python For Loops\n",
        "A for loop is used for iterating over a sequence (that is either a list, a tuple, a dictionary, a set, or a string).\n",
        "\n",
        "With the for loop we can execute a set of statements, once for each item in a list, tuple, set etc.\n",
        "\n"
      ]
    },
    {
      "cell_type": "code",
      "source": [
        "for i in range(1, 11):\n",
        "    print(i)"
      ],
      "metadata": {
        "id": "QQsJATilo7u8"
      },
      "id": "QQsJATilo7u8",
      "execution_count": null,
      "outputs": []
    },
    {
      "cell_type": "code",
      "execution_count": null,
      "id": "31d02930",
      "metadata": {
        "id": "31d02930"
      },
      "outputs": [],
      "source": [
        "fruits = [\"apple\", \"banana\", \"cherry\"]\n",
        "for x in fruits:\n",
        "  print(x)"
      ]
    },
    {
      "cell_type": "markdown",
      "id": "e2540c9c",
      "metadata": {
        "id": "e2540c9c"
      },
      "source": [
        "# Looping Through a String\n",
        "Even strings are iterable objects, they contain a sequence of characters:"
      ]
    },
    {
      "cell_type": "code",
      "execution_count": null,
      "id": "74eab478",
      "metadata": {
        "id": "74eab478"
      },
      "outputs": [],
      "source": [
        "for x in \"banana\":\n",
        "  print(x)"
      ]
    },
    {
      "cell_type": "markdown",
      "id": "34755d8d",
      "metadata": {
        "id": "34755d8d"
      },
      "source": [
        "# The break Statement\n",
        "With the break statement we can stop the loop before it has looped through all the items:#"
      ]
    },
    {
      "cell_type": "code",
      "execution_count": null,
      "id": "c3674773",
      "metadata": {
        "id": "c3674773"
      },
      "outputs": [],
      "source": [
        "fruits = [\"apple\", \"banana\", \"cherry\"]\n",
        "for x in fruits:\n",
        "  print(x)\n",
        "  if x == \"banana\":\n",
        "    break"
      ]
    },
    {
      "cell_type": "markdown",
      "id": "65fa616d",
      "metadata": {
        "id": "65fa616d"
      },
      "source": [
        "Exit the loop when x is \"banana\", but this time the break comes before the print:\n",
        "\n"
      ]
    },
    {
      "cell_type": "code",
      "execution_count": null,
      "id": "6c9f7053",
      "metadata": {
        "id": "6c9f7053"
      },
      "outputs": [],
      "source": [
        "fruits = [\"apple\", \"banana\", \"cherry\"]\n",
        "for x in fruits:\n",
        "  if x == \"banana\":\n",
        "    break\n",
        "  print(x)"
      ]
    },
    {
      "cell_type": "markdown",
      "id": "07d2c768",
      "metadata": {
        "id": "07d2c768"
      },
      "source": [
        "# The continue Statement\n",
        "With the continue statement we can stop the current iteration of the loop, and continue with the next:"
      ]
    },
    {
      "cell_type": "code",
      "execution_count": null,
      "id": "03147a8c",
      "metadata": {
        "id": "03147a8c"
      },
      "outputs": [],
      "source": [
        "fruits = [\"apple\", \"banana\", \"cherry\"]\n",
        "for x in fruits:\n",
        "  if x == \"banana\":\n",
        "    continue\n",
        "  print(x)"
      ]
    },
    {
      "cell_type": "markdown",
      "id": "0e7a596a",
      "metadata": {
        "id": "0e7a596a"
      },
      "source": [
        "# The range() Function\n",
        "To loop through a set of code a specified number of times, we can use the range() function,\n",
        "The range() function returns a sequence of numbers, starting from 0 by default, and increments by 1 (by default), and ends at a specified number.\n",
        "\n"
      ]
    },
    {
      "cell_type": "code",
      "execution_count": null,
      "id": "3c7840a4",
      "metadata": {
        "id": "3c7840a4"
      },
      "outputs": [],
      "source": [
        "for x in range(6):\n",
        "  print(x)"
      ]
    },
    {
      "cell_type": "markdown",
      "id": "63bd0b68",
      "metadata": {
        "id": "63bd0b68"
      },
      "source": [
        "The range() function defaults to 0 as a starting value, however it is possible to specify the starting value by adding a parameter: range(2, 6), which means values from 2 to 6 (but not including 6):"
      ]
    },
    {
      "cell_type": "code",
      "execution_count": null,
      "id": "341e9831",
      "metadata": {
        "id": "341e9831"
      },
      "outputs": [],
      "source": [
        "for x in range(2, 6):\n",
        "  print(x)"
      ]
    },
    {
      "cell_type": "markdown",
      "id": "3ed47fea",
      "metadata": {
        "id": "3ed47fea"
      },
      "source": [
        "The range() function defaults to increment the sequence by 1, however it is possible to specify the increment value by adding a third parameter: range(2, 30, 3):"
      ]
    },
    {
      "cell_type": "code",
      "execution_count": null,
      "id": "645c0f80",
      "metadata": {
        "id": "645c0f80"
      },
      "outputs": [],
      "source": [
        "for x in range(2, 30, 3):\n",
        "  print(x)"
      ]
    },
    {
      "cell_type": "markdown",
      "id": "6a82fc9d",
      "metadata": {
        "id": "6a82fc9d"
      },
      "source": [
        "Else in For Loop\n",
        "The else keyword in a for loop specifies a block of code to be executed when the loop is finished:"
      ]
    },
    {
      "cell_type": "code",
      "execution_count": null,
      "id": "65a97a1e",
      "metadata": {
        "id": "65a97a1e"
      },
      "outputs": [],
      "source": [
        "for x in range(6):\n",
        "  print(x)\n",
        "else:\n",
        "  print(\"Finally finished!\")"
      ]
    },
    {
      "cell_type": "markdown",
      "id": "833e718f",
      "metadata": {
        "id": "833e718f"
      },
      "source": [
        "The else block will NOT be executed if the loop is stopped by a break statement. Break the loop when x is 3, and see what happens with the else block:\n",
        "\n"
      ]
    },
    {
      "cell_type": "code",
      "execution_count": null,
      "id": "a9200037",
      "metadata": {
        "id": "a9200037"
      },
      "outputs": [],
      "source": [
        "for x in range(6):\n",
        "  if x == 3: break\n",
        "  print(x)\n",
        "else:\n",
        "  print(\"Finally finished!\")"
      ]
    },
    {
      "cell_type": "markdown",
      "id": "804a2b15",
      "metadata": {
        "id": "804a2b15"
      },
      "source": [
        "# Nested Loops\n",
        "A nested loop is a loop inside a loop.\n",
        "\n",
        "The \"inner loop\" will be executed one time for each iteration of the \"outer loop\":"
      ]
    },
    {
      "cell_type": "code",
      "execution_count": null,
      "id": "49b0fba6",
      "metadata": {
        "id": "49b0fba6"
      },
      "outputs": [],
      "source": [
        "adj = [\"red\", \"big\", \"tasty\"]\n",
        "fruits = [\"apple\", \"banana\", \"cherry\"]\n",
        "\n",
        "for x in adj:\n",
        "  for y in fruits:\n",
        "    print(x, y)"
      ]
    },
    {
      "cell_type": "markdown",
      "id": "3be5acdf",
      "metadata": {
        "id": "3be5acdf"
      },
      "source": [
        "# The pass Statement\n",
        "for loops cannot be empty, but if you for some reason have a for loop with no content, put in the pass statement to avoid getting an error."
      ]
    },
    {
      "cell_type": "code",
      "execution_count": null,
      "id": "9f94430b",
      "metadata": {
        "id": "9f94430b"
      },
      "outputs": [],
      "source": [
        "for x in [0, 1, 2]:\n",
        "  pass"
      ]
    },
    {
      "cell_type": "markdown",
      "id": "d09fadeb",
      "metadata": {
        "id": "d09fadeb"
      },
      "source": [
        "# The while Loop\n",
        "With the while loop we can execute a set of statements as long as a condition is true."
      ]
    },
    {
      "cell_type": "code",
      "execution_count": null,
      "id": "8089acfa",
      "metadata": {
        "id": "8089acfa"
      },
      "outputs": [],
      "source": [
        "i = 1\n",
        "while i < 6:\n",
        "  print(i)\n",
        "  i += 1"
      ]
    },
    {
      "cell_type": "markdown",
      "id": "90540562",
      "metadata": {
        "id": "90540562"
      },
      "source": [
        "# The break Statement\n",
        "With the break statement we can stop the loop even if the while condition is true:"
      ]
    },
    {
      "cell_type": "code",
      "execution_count": null,
      "id": "d6f48ad4",
      "metadata": {
        "id": "d6f48ad4"
      },
      "outputs": [],
      "source": [
        "i = 1\n",
        "while i < 6:\n",
        "  print(i)\n",
        "  if i == 3:\n",
        "    break\n",
        "  i += 1"
      ]
    },
    {
      "cell_type": "markdown",
      "id": "c11acf81",
      "metadata": {
        "id": "c11acf81"
      },
      "source": [
        "# The continue Statement\n",
        "With the continue statement we can stop the current iteration, and continue with the next:"
      ]
    },
    {
      "cell_type": "code",
      "execution_count": null,
      "id": "41328025",
      "metadata": {
        "id": "41328025"
      },
      "outputs": [],
      "source": [
        "i = 0\n",
        "while i < 6:\n",
        "  i += 1\n",
        "  if i == 3:\n",
        "    continue\n",
        "  print(i)"
      ]
    },
    {
      "cell_type": "markdown",
      "id": "48fdbcf8",
      "metadata": {
        "id": "48fdbcf8"
      },
      "source": [
        "# The else Statement\n",
        "With the else statement we can run a block of code once when the condition no longer is true:"
      ]
    },
    {
      "cell_type": "code",
      "execution_count": null,
      "id": "31dc16ba",
      "metadata": {
        "id": "31dc16ba"
      },
      "outputs": [],
      "source": [
        "i = 1\n",
        "while i < 6:\n",
        "  print(i)\n",
        "  i += 1\n",
        "else:\n",
        "  print(\"i is no longer less than 6\")"
      ]
    },
    {
      "cell_type": "code",
      "execution_count": null,
      "id": "6f73b3a3",
      "metadata": {
        "id": "6f73b3a3"
      },
      "outputs": [],
      "source": []
    }
  ],
  "metadata": {
    "kernelspec": {
      "display_name": "Python 3 (ipykernel)",
      "language": "python",
      "name": "python3"
    },
    "language_info": {
      "codemirror_mode": {
        "name": "ipython",
        "version": 3
      },
      "file_extension": ".py",
      "mimetype": "text/x-python",
      "name": "python",
      "nbconvert_exporter": "python",
      "pygments_lexer": "ipython3",
      "version": "3.11.5"
    },
    "colab": {
      "provenance": []
    }
  },
  "nbformat": 4,
  "nbformat_minor": 5
}