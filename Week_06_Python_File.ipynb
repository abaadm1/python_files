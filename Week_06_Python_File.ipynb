{
  "cells": [
    {
      "cell_type": "markdown",
      "id": "518db929",
      "metadata": {
        "id": "518db929"
      },
      "source": [
        "# Python Functions\n",
        "A function is a block of code which only runs when it is called.\n",
        "\n",
        "You can pass data, known as parameters, into a function.\n",
        "\n",
        "A function can return data as a result."
      ]
    },
    {
      "cell_type": "markdown",
      "id": "9edcd3a4",
      "metadata": {
        "id": "9edcd3a4"
      },
      "source": [
        "# Creating a Function\n",
        "In Python a function is defined using the def keyword:"
      ]
    },
    {
      "cell_type": "code",
      "execution_count": null,
      "id": "71e3c7fc",
      "metadata": {
        "id": "71e3c7fc"
      },
      "outputs": [],
      "source": [
        "def my_function():\n",
        "  print(\"Hello from a function\")"
      ]
    },
    {
      "cell_type": "markdown",
      "id": "270c52a7",
      "metadata": {
        "id": "270c52a7"
      },
      "source": [
        "# Calling a Function\n",
        "To call a function, use the function name followed by parenthesis:"
      ]
    },
    {
      "cell_type": "code",
      "execution_count": null,
      "id": "8ba779be",
      "metadata": {
        "id": "8ba779be"
      },
      "outputs": [],
      "source": [
        "def my_function():\n",
        "  print(\"Hello from a function\")\n",
        "\n",
        "my_function()"
      ]
    },
    {
      "cell_type": "markdown",
      "id": "f914a5c8",
      "metadata": {
        "id": "f914a5c8"
      },
      "source": [
        "# Arguments\n",
        "Information can be passed into functions as arguments.\n",
        "\n",
        "Arguments are specified after the function name, inside the parentheses. You can add as many arguments as you want, just separate them with a comma.\n",
        "\n",
        "The following example has a function with one argument (fname). When the function is called, we pass along a first name, which is used inside the function to print the full name:"
      ]
    },
    {
      "cell_type": "code",
      "execution_count": null,
      "id": "a711a60a",
      "metadata": {
        "id": "a711a60a"
      },
      "outputs": [],
      "source": [
        "def my_function(fname):\n",
        "  print(fname + \" Refsnes\")\n",
        "\n",
        "my_function(\"Emil\")\n",
        "my_function(\"Tobias\")\n",
        "my_function(\"Linus\")"
      ]
    },
    {
      "cell_type": "markdown",
      "id": "892661b2",
      "metadata": {
        "id": "892661b2"
      },
      "source": [
        "# Parameters or Arguments?\n",
        "The terms parameter and argument can be used for the same thing: information that are passed into a function.\n",
        "\n",
        "From a function's perspective:\n",
        "\n",
        "A parameter is the variable listed inside the parentheses in the function definition.\n",
        "\n",
        "An argument is the value that is sent to the function when it is called."
      ]
    },
    {
      "cell_type": "markdown",
      "id": "5ada43da",
      "metadata": {
        "id": "5ada43da"
      },
      "source": [
        "# Number of Arguments\n",
        "By default, a function must be called with the correct number of arguments. Meaning that if your function expects 2 arguments, you have to call the function with 2 arguments, not more, and not less"
      ]
    },
    {
      "cell_type": "code",
      "execution_count": null,
      "id": "c1990c8a",
      "metadata": {
        "id": "c1990c8a"
      },
      "outputs": [],
      "source": [
        "#This function expects 2 arguments, and gets 2 arguments:\n",
        "\n",
        "def full_name(fname, lname):\n",
        "  print(fname + \" \" + lname)\n",
        "\n",
        "full_name(\"John\", \"Doe\")"
      ]
    },
    {
      "cell_type": "markdown",
      "id": "97fdf424",
      "metadata": {
        "id": "97fdf424"
      },
      "source": [
        "# Arbitrary Arguments, *args\n",
        "If you do not know how many arguments that will be passed into your function, add a * before the parameter name in the function definition.\n",
        "\n",
        "This way the function will receive a tuple of arguments, and can access the items accordingly:"
      ]
    },
    {
      "cell_type": "code",
      "source": [
        "def greet_all(*args):\n",
        "    for name in args:\n",
        "        print(f\"Hello, {name}!\")\n",
        "\n",
        "# Calling the function with different numbers of arguments\n",
        "greet_all(\"Alice\", \"Bob\", \"Charlie\")\n",
        "\n",
        "\n",
        "greet_all(\"Dave\")"
      ],
      "metadata": {
        "id": "jgUGhQHa5Z0f"
      },
      "id": "jgUGhQHa5Z0f",
      "execution_count": null,
      "outputs": []
    },
    {
      "cell_type": "code",
      "source": [
        "def sum_numbers(*args):\n",
        "    total = 0\n",
        "    for number in args:\n",
        "        total += number\n",
        "    return total\n",
        "\n",
        "# Calling the function with different numbers of arguments\n",
        "print(sum_numbers(1, 2, 3))\n",
        "print(sum_numbers(4, 5, 6, 7, 8))\n",
        "print(sum_numbers(10))\n"
      ],
      "metadata": {
        "id": "z8L3dVUy5gcx"
      },
      "id": "z8L3dVUy5gcx",
      "execution_count": null,
      "outputs": []
    },
    {
      "cell_type": "markdown",
      "id": "022b20cf",
      "metadata": {
        "id": "022b20cf"
      },
      "source": [
        "# Keyword Arguments\n",
        "You can also send arguments with the key = value syntax.\n",
        "\n",
        "This way the order of the arguments does not matter."
      ]
    },
    {
      "cell_type": "code",
      "execution_count": null,
      "id": "cb2b2d6b",
      "metadata": {
        "id": "cb2b2d6b"
      },
      "outputs": [],
      "source": [
        "def introduce_person(name, age, city):\n",
        "    print(f\"{name} is {age} years old and lives in {city}.\")\n",
        "\n",
        "introduce_person(name=\"Alice\", age=30, city=\"New York\")\n"
      ]
    },
    {
      "cell_type": "markdown",
      "id": "eb695775",
      "metadata": {
        "id": "eb695775"
      },
      "source": [
        "# Arbitrary Keyword Arguments, **kwargs\n",
        "If you do not know how many keyword arguments that will be passed into your function, add two asterisk: ** before the parameter name in the function definition.\n",
        "\n",
        "This way the function will receive a dictionary of arguments, and can access the items accordingly:"
      ]
    },
    {
      "cell_type": "code",
      "execution_count": null,
      "id": "f67b7cff",
      "metadata": {
        "id": "f67b7cff"
      },
      "outputs": [],
      "source": [
        "def my_function(**kid):\n",
        "  print(\"His last name is \" + kid[\"lname\"])\n",
        "\n",
        "my_function(fname = \"Tobias\", lname = \"Refsnes\")"
      ]
    },
    {
      "cell_type": "markdown",
      "id": "734dd013",
      "metadata": {
        "id": "734dd013"
      },
      "source": [
        "# Default Parameter Value\n",
        "The following example shows how to use a default parameter value.\n",
        "\n",
        "If we call the function without argument, it uses the default value:"
      ]
    },
    {
      "cell_type": "code",
      "execution_count": null,
      "id": "8333ed62",
      "metadata": {
        "id": "8333ed62"
      },
      "outputs": [],
      "source": [
        "def my_nationality(country = \"Norway\"):\n",
        "  print(\"I am from \" + country)\n",
        "\n",
        "my_nationality(\"Sweden\")\n",
        "my_nationality(\"India\")\n",
        "my_nationality()\n",
        "my_nationality(\"Brazil\")"
      ]
    },
    {
      "cell_type": "markdown",
      "id": "e676adc9",
      "metadata": {
        "id": "e676adc9"
      },
      "source": [
        "# Passing a List as an Argument\n",
        "You can send any data types of argument to a function (string, number, list, dictionary etc.), and it will be treated as the same data type inside the function.\n",
        "\n",
        "E.g. if you send a List as an argument, it will still be a List when it reaches the function:"
      ]
    },
    {
      "cell_type": "code",
      "execution_count": null,
      "id": "8dc55f52",
      "metadata": {
        "id": "8dc55f52"
      },
      "outputs": [],
      "source": [
        "def favourite_fruits(food):\n",
        "  for x in food:\n",
        "    print(f\"My Favourite Fruits is: {x}\")\n",
        "\n",
        "fruits = [\"apple\", \"banana\", \"cherry\"]\n",
        "\n",
        "favourite_fruits(fruits)"
      ]
    },
    {
      "cell_type": "markdown",
      "id": "9a88b3a7",
      "metadata": {
        "id": "9a88b3a7"
      },
      "source": [
        "# Return Values\n",
        "To let a function return a value, use the return statement:"
      ]
    },
    {
      "cell_type": "code",
      "execution_count": null,
      "id": "fbacb521",
      "metadata": {
        "id": "fbacb521"
      },
      "outputs": [],
      "source": [
        "def my_function(x):\n",
        "  return 5 * x\n",
        "\n",
        "print(my_function(3))\n",
        "print(my_function(5))\n",
        "print(my_function(9))"
      ]
    },
    {
      "cell_type": "code",
      "source": [
        "def area_of_circle(radius):\n",
        "    pi = 3.14159\n",
        "    return pi * (radius ** 2)\n",
        "\n",
        "print(area_of_circle(5))  # Output: 78.53975\n",
        "print(area_of_circle(10)) # Output: 314.159\n",
        "print(area_of_circle(2))  # Output: 12.56636\n"
      ],
      "metadata": {
        "id": "4AFlsGls908D"
      },
      "id": "4AFlsGls908D",
      "execution_count": null,
      "outputs": []
    },
    {
      "cell_type": "markdown",
      "id": "e632e31d",
      "metadata": {
        "id": "e632e31d"
      },
      "source": [
        "# The pass Statement\n",
        "function definitions cannot be empty, but if you for some reason have a function definition with no content, put in the pass statement to avoid getting an error."
      ]
    },
    {
      "cell_type": "code",
      "execution_count": null,
      "id": "3151bb31",
      "metadata": {
        "id": "3151bb31"
      },
      "outputs": [],
      "source": [
        "def myfunction():\n",
        "  pass"
      ]
    },
    {
      "cell_type": "markdown",
      "id": "ae3421e0",
      "metadata": {
        "id": "ae3421e0"
      },
      "source": [
        "# Positional-Only Arguments\n",
        "You can specify that a function can have ONLY positional arguments, or ONLY keyword arguments.\n",
        "\n",
        "To specify that a function can have only positional arguments, add , / after the arguments"
      ]
    },
    {
      "cell_type": "code",
      "execution_count": null,
      "id": "38a7c0a1",
      "metadata": {
        "id": "38a7c0a1"
      },
      "outputs": [],
      "source": [
        "def my_function(x, /):\n",
        "  print(x)\n",
        "\n",
        "my_function(3)"
      ]
    },
    {
      "cell_type": "markdown",
      "id": "b02b8e74",
      "metadata": {
        "id": "b02b8e74"
      },
      "source": [
        " Without the , / you are actually allowed to use keyword arguments even if the function expects positional arguments:"
      ]
    },
    {
      "cell_type": "code",
      "execution_count": null,
      "id": "1e7c8c07",
      "metadata": {
        "id": "1e7c8c07"
      },
      "outputs": [],
      "source": [
        " def my_function(x):\n",
        "  print(x)\n",
        "\n",
        "my_function(x = 3)"
      ]
    },
    {
      "cell_type": "markdown",
      "id": "320ea36e",
      "metadata": {
        "id": "320ea36e"
      },
      "source": [
        "# Keyword-Only Arguments\n",
        "To specify that a function can have only keyword arguments, add *, before the arguments:"
      ]
    },
    {
      "cell_type": "code",
      "execution_count": null,
      "id": "c09ade63",
      "metadata": {
        "id": "c09ade63"
      },
      "outputs": [],
      "source": [
        "def my_function(*, x):\n",
        "  print(x)\n",
        "\n",
        "my_function(x = 3)"
      ]
    },
    {
      "cell_type": "markdown",
      "id": "9c824568",
      "metadata": {
        "id": "9c824568"
      },
      "source": [
        "# Combine Positional-Only and Keyword-Only\n",
        "You can combine the two argument types in the same function.\n",
        "\n",
        "Any argument before the / , are positional-only, and any argument after the *, are keyword-only."
      ]
    },
    {
      "cell_type": "code",
      "execution_count": null,
      "id": "cca5bb10",
      "metadata": {
        "id": "cca5bb10"
      },
      "outputs": [],
      "source": [
        "def my_function(a, b, /, *, c, d):\n",
        "  print(a + b + c + d)\n",
        "\n",
        "my_function(5, 6, c = 7, d = 8)"
      ]
    },
    {
      "cell_type": "markdown",
      "id": "1adcd665",
      "metadata": {
        "id": "1adcd665"
      },
      "source": [
        "# Python Local Variables\n",
        "When we declare variables inside a function, these variables will have a local scope (within the function). We cannot access them outside the function.\n",
        "\n",
        "These types of variables are called local variables. For example,"
      ]
    },
    {
      "cell_type": "code",
      "execution_count": null,
      "id": "5037edbf",
      "metadata": {
        "id": "5037edbf"
      },
      "outputs": [],
      "source": [
        "def greet():\n",
        "    message = 'Hello'\n",
        "    print('Local', message)\n",
        "\n",
        "greet()\n",
        "\n",
        "# try to access message variable\n",
        "# outside greet() function\n",
        "print(message)"
      ]
    },
    {
      "cell_type": "markdown",
      "id": "1bb04244",
      "metadata": {
        "id": "1bb04244"
      },
      "source": [
        "# Python Global Variables\n",
        "In Python, a variable declared outside of the function or in global scope is known as a global variable. This means that a global variable can be accessed inside or outside of the function.\n",
        "\n",
        "Let's see an example of how a global variable is created in Python."
      ]
    },
    {
      "cell_type": "code",
      "execution_count": null,
      "id": "08110139",
      "metadata": {
        "id": "08110139"
      },
      "outputs": [],
      "source": [
        "message = 'Hello'\n",
        "\n",
        "def greet():\n",
        "    # declare local variable\n",
        "    print('Local', message)\n",
        "\n",
        "greet()\n",
        "print('Global', message)"
      ]
    },
    {
      "cell_type": "markdown",
      "source": [
        "# Exercises"
      ],
      "metadata": {
        "id": "SGWRYful9_od"
      },
      "id": "SGWRYful9_od"
    },
    {
      "cell_type": "markdown",
      "source": [
        "Function to Print Even Numbers up to n"
      ],
      "metadata": {
        "id": "e4mKWlkw-JF7"
      },
      "id": "e4mKWlkw-JF7"
    },
    {
      "cell_type": "code",
      "source": [
        "def print_even_numbers(n):\n",
        "    for i in range(1, n+1):\n",
        "        if i % 2 == 0:\n",
        "            print(i)\n",
        "\n",
        "# Example usage\n",
        "print_even_numbers(10)\n"
      ],
      "metadata": {
        "id": "0NoF4tNA-DOv"
      },
      "id": "0NoF4tNA-DOv",
      "execution_count": null,
      "outputs": []
    },
    {
      "cell_type": "markdown",
      "source": [
        "Function to Count Vowels in a String"
      ],
      "metadata": {
        "id": "8yfUftCE-MJK"
      },
      "id": "8yfUftCE-MJK"
    },
    {
      "cell_type": "code",
      "source": [
        "def count_vowels(s):\n",
        "    vowels = 'aeiouAEIOU'\n",
        "    count = 0\n",
        "    for char in s:\n",
        "        if char in vowels:\n",
        "            count += 1\n",
        "    return count\n",
        "\n",
        "# Example usage\n",
        "print(count_vowels(\"Hello World\"))  # Output: 3\n"
      ],
      "metadata": {
        "id": "TbgsLkGo-UEE"
      },
      "id": "TbgsLkGo-UEE",
      "execution_count": null,
      "outputs": []
    },
    {
      "cell_type": "markdown",
      "source": [
        "Function to Find the Maximum Number in a List"
      ],
      "metadata": {
        "id": "sAz6wn85-bIL"
      },
      "id": "sAz6wn85-bIL"
    },
    {
      "cell_type": "code",
      "source": [
        "def find_max(numbers):\n",
        "    max_num = numbers[0]\n",
        "    for num in numbers:\n",
        "        if num > max_num:\n",
        "            max_num = num\n",
        "    return max_num\n",
        "\n",
        "# Example usage\n",
        "print(find_max([1, 2, 3, 4, 5]))  # Output: 5\n"
      ],
      "metadata": {
        "id": "2GyhDK11-g55"
      },
      "id": "2GyhDK11-g55",
      "execution_count": null,
      "outputs": []
    },
    {
      "cell_type": "markdown",
      "source": [
        " Function to Remove Duplicates from a List"
      ],
      "metadata": {
        "id": "sAAjgpzL-i--"
      },
      "id": "sAAjgpzL-i--"
    },
    {
      "cell_type": "code",
      "source": [
        "def remove_duplicates(lst):\n",
        "    return list(set(lst))\n",
        "\n",
        "# Example usage\n",
        "print(remove_duplicates([1, 2, 2, 3, 4, 4, 5]))  # Output: [1, 2, 3, 4, 5]\n"
      ],
      "metadata": {
        "id": "hjYoNJRE-te0"
      },
      "id": "hjYoNJRE-te0",
      "execution_count": null,
      "outputs": []
    },
    {
      "cell_type": "markdown",
      "source": [
        "Function to Find the Common Elements in Two Lists"
      ],
      "metadata": {
        "id": "YPR7eAZZ-1Nt"
      },
      "id": "YPR7eAZZ-1Nt"
    },
    {
      "cell_type": "code",
      "source": [
        "def intersection(list1, list2):\n",
        "    return list(set(list1) & set(list2))\n",
        "\n",
        "# Example usage\n",
        "print(intersection([1, 2, 3, 4], [3, 4, 5, 6]))  # Output: [3, 4]\n"
      ],
      "metadata": {
        "id": "mLFrFCDu-0VD"
      },
      "id": "mLFrFCDu-0VD",
      "execution_count": null,
      "outputs": []
    }
  ],
  "metadata": {
    "kernelspec": {
      "display_name": "Python 3 (ipykernel)",
      "language": "python",
      "name": "python3"
    },
    "language_info": {
      "codemirror_mode": {
        "name": "ipython",
        "version": 3
      },
      "file_extension": ".py",
      "mimetype": "text/x-python",
      "name": "python",
      "nbconvert_exporter": "python",
      "pygments_lexer": "ipython3",
      "version": "3.11.5"
    },
    "colab": {
      "provenance": []
    }
  },
  "nbformat": 4,
  "nbformat_minor": 5
}