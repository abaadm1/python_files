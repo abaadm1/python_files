{
  "cells": [
    {
      "cell_type": "markdown",
      "id": "60f3b2c5",
      "metadata": {
        "id": "60f3b2c5"
      },
      "source": [
        "# Dictionary\n",
        "Dictionaries are used to store data values in key:value pairs.\n",
        "\n",
        "A dictionary is a collection which is ordered*, changeable and do not allow duplicates. Dictionaries are written with curly brackets, and have keys and values:\n"
      ]
    },
    {
      "cell_type": "code",
      "execution_count": null,
      "id": "f700cfc0",
      "metadata": {
        "id": "f700cfc0"
      },
      "outputs": [],
      "source": [
        "thisdict = {\n",
        "  \"brand\": \"Ford\",\n",
        "  \"model\": \"Mustang\",\n",
        "  \"year\": 1964\n",
        "}\n",
        "print(thisdict)"
      ]
    },
    {
      "cell_type": "markdown",
      "id": "378b485b",
      "metadata": {
        "id": "378b485b"
      },
      "source": [
        "# Dictionary Items\n",
        "Dictionary items are presented in key:value pairs, and can be referred to by using the key name. Print the \"brand\" value of the dictionary"
      ]
    },
    {
      "cell_type": "code",
      "execution_count": null,
      "id": "55c7ca14",
      "metadata": {
        "id": "55c7ca14"
      },
      "outputs": [],
      "source": [
        "thisdict = {\n",
        "  \"brand\": \"Ford\",\n",
        "  \"model\": \"Mustang\",\n",
        "  \"year\": 1964\n",
        "}\n",
        "print(thisdict[\"brand\"])"
      ]
    },
    {
      "cell_type": "markdown",
      "id": "97a8a3e7",
      "metadata": {
        "id": "97a8a3e7"
      },
      "source": [
        "# Duplicates Not Allowed\n",
        "Dictionaries cannot have two items with the same key:"
      ]
    },
    {
      "cell_type": "code",
      "execution_count": null,
      "id": "55993955",
      "metadata": {
        "id": "55993955"
      },
      "outputs": [],
      "source": [
        "thisdict = {\n",
        "  \"brand\": \"Ford\",\n",
        "  \"model\": \"Mustang\",\n",
        "  \"year\": 1964,\n",
        "  \"year\": 2020\n",
        "}\n",
        "print(thisdict)"
      ]
    },
    {
      "cell_type": "markdown",
      "id": "763386d3",
      "metadata": {
        "id": "763386d3"
      },
      "source": [
        "# Dictionary Length\n",
        "To determine how many items a dictionary has, use the len() function"
      ]
    },
    {
      "cell_type": "code",
      "execution_count": null,
      "id": "901d8a5f",
      "metadata": {
        "id": "901d8a5f"
      },
      "outputs": [],
      "source": [
        "print(len(thisdict))\n"
      ]
    },
    {
      "cell_type": "markdown",
      "id": "520cc1af",
      "metadata": {
        "id": "520cc1af"
      },
      "source": [
        "# Dictionary Items - Data Types\n",
        "The values in dictionary items can be of any data type:"
      ]
    },
    {
      "cell_type": "code",
      "execution_count": null,
      "id": "0055d59e",
      "metadata": {
        "id": "0055d59e"
      },
      "outputs": [],
      "source": [
        "thisdict = {\n",
        "  \"brand\": \"Ford\",\n",
        "  \"electric\": False,\n",
        "  \"year\": 1964,\n",
        "  \"colors\": [\"red\", \"white\", \"blue\"]\n",
        "}"
      ]
    },
    {
      "cell_type": "markdown",
      "id": "e1811a66",
      "metadata": {
        "id": "e1811a66"
      },
      "source": [
        "# type()\n",
        "From Python's perspective, dictionaries are defined as objects with the data type 'dict':"
      ]
    },
    {
      "cell_type": "code",
      "execution_count": null,
      "id": "06f385d2",
      "metadata": {
        "id": "06f385d2"
      },
      "outputs": [],
      "source": [
        "thisdict = {\n",
        "  \"brand\": \"Ford\",\n",
        "  \"model\": \"Mustang\",\n",
        "  \"year\": 1964\n",
        "}\n",
        "print(type(thisdict))"
      ]
    },
    {
      "cell_type": "markdown",
      "id": "7deac2ae",
      "metadata": {
        "id": "7deac2ae"
      },
      "source": [
        "# The dict() Constructor\n",
        "It is also possible to use the dict() constructor to make a dictionary."
      ]
    },
    {
      "cell_type": "code",
      "execution_count": null,
      "id": "b04442e8",
      "metadata": {
        "id": "b04442e8"
      },
      "outputs": [],
      "source": [
        "thisdict = dict(name = \"John\", age = 36, country = \"Norway\")\n",
        "print(thisdict)"
      ]
    },
    {
      "cell_type": "markdown",
      "id": "8d9d118f",
      "metadata": {
        "id": "8d9d118f"
      },
      "source": [
        "# Accessing Items\n",
        "You can access the items of a dictionary by referring to its key name, inside square brackets:"
      ]
    },
    {
      "cell_type": "code",
      "execution_count": null,
      "id": "08bd956f",
      "metadata": {
        "id": "08bd956f"
      },
      "outputs": [],
      "source": [
        "thisdict = {\n",
        "  \"brand\": \"Ford\",\n",
        "  \"model\": \"Mustang\",\n",
        "  \"year\": 1964\n",
        "}\n",
        "x = thisdict[\"model\"]"
      ]
    },
    {
      "cell_type": "markdown",
      "id": "871c79b7",
      "metadata": {
        "id": "871c79b7"
      },
      "source": [
        "There is also a method called get() that will give you the same result:"
      ]
    },
    {
      "cell_type": "code",
      "execution_count": null,
      "id": "8de39ef5",
      "metadata": {
        "id": "8de39ef5"
      },
      "outputs": [],
      "source": [
        "x = thisdict.get(\"model\")"
      ]
    },
    {
      "cell_type": "markdown",
      "id": "fe26abb7",
      "metadata": {
        "id": "fe26abb7"
      },
      "source": [
        "# Get Keys\n",
        "The keys() method will return a list of all the keys in the dictionary."
      ]
    },
    {
      "cell_type": "code",
      "execution_count": null,
      "id": "e869c00e",
      "metadata": {
        "id": "e869c00e"
      },
      "outputs": [],
      "source": [
        "x = thisdict.keys()"
      ]
    },
    {
      "cell_type": "markdown",
      "id": "e5cc27aa",
      "metadata": {
        "id": "e5cc27aa"
      },
      "source": [
        "Add a new item to the original dictionary, and see that the keys list gets updated as well:"
      ]
    },
    {
      "cell_type": "code",
      "execution_count": null,
      "id": "974d7c9b",
      "metadata": {
        "id": "974d7c9b"
      },
      "outputs": [],
      "source": [
        "car = {\n",
        "\"brand\": \"Ford\",\n",
        "\"model\": \"Mustang\",\n",
        "\"year\": 1964\n",
        "}\n",
        "\n",
        "x = car.keys()\n",
        "\n",
        "print(x) #before the change\n",
        "\n",
        "car[\"color\"] = \"white\"\n",
        "\n",
        "print(x) #after the change"
      ]
    },
    {
      "cell_type": "markdown",
      "id": "0807f41f",
      "metadata": {
        "id": "0807f41f"
      },
      "source": [
        "# Get Values\n",
        "The values() method will return a list of all the values in the dictionary."
      ]
    },
    {
      "cell_type": "code",
      "execution_count": null,
      "id": "721fbaa3",
      "metadata": {
        "id": "721fbaa3"
      },
      "outputs": [],
      "source": [
        "x = thisdict.values()"
      ]
    },
    {
      "cell_type": "markdown",
      "id": "544ea27d",
      "metadata": {
        "id": "544ea27d"
      },
      "source": [
        "Make a change in the original dictionary, and see that the values list gets updated as well:"
      ]
    },
    {
      "cell_type": "code",
      "execution_count": null,
      "id": "d9b7791c",
      "metadata": {
        "id": "d9b7791c"
      },
      "outputs": [],
      "source": [
        "car = {\n",
        "\"brand\": \"Ford\",\n",
        "\"model\": \"Mustang\",\n",
        "\"year\": 1964\n",
        "}\n",
        "\n",
        "x = car.values()\n",
        "\n",
        "print(x) #before the change\n",
        "\n",
        "car[\"year\"] = 2020\n",
        "\n",
        "print(x) #after the change"
      ]
    },
    {
      "cell_type": "markdown",
      "id": "7896b6f5",
      "metadata": {
        "id": "7896b6f5"
      },
      "source": [
        "Add a new item to the original dictionary, and see that the values list gets updated as well:\n",
        "\n"
      ]
    },
    {
      "cell_type": "code",
      "execution_count": null,
      "id": "70a8466b",
      "metadata": {
        "id": "70a8466b"
      },
      "outputs": [],
      "source": [
        "car = {\n",
        "\"brand\": \"Ford\",\n",
        "\"model\": \"Mustang\",\n",
        "\"year\": 1964\n",
        "}\n",
        "\n",
        "x = car.values()\n",
        "\n",
        "print(x) #before the change\n",
        "\n",
        "car[\"color\"] = \"red\"\n",
        "\n",
        "print(x) #after the change"
      ]
    },
    {
      "cell_type": "markdown",
      "id": "74e52044",
      "metadata": {
        "id": "74e52044"
      },
      "source": [
        "The items() method will return each item in a dictionary, as tuples in a list."
      ]
    },
    {
      "cell_type": "code",
      "execution_count": null,
      "id": "9e3ed1dd",
      "metadata": {
        "id": "9e3ed1dd"
      },
      "outputs": [],
      "source": [
        "x = thisdict.items()"
      ]
    },
    {
      "cell_type": "markdown",
      "id": "b764a88a",
      "metadata": {
        "id": "b764a88a"
      },
      "source": [
        "Check if \"model\" is present in the dictionary:\n",
        "\n"
      ]
    },
    {
      "cell_type": "code",
      "execution_count": null,
      "id": "5df4d643",
      "metadata": {
        "id": "5df4d643"
      },
      "outputs": [],
      "source": [
        "thisdict = {\n",
        "  \"brand\": \"Ford\",\n",
        "  \"model\": \"Mustang\",\n",
        "  \"year\": 1964\n",
        "}\n",
        "if \"model\" in thisdict:\n",
        "  print(\"Yes, 'model' is one of the keys in the thisdict dictionary\")"
      ]
    },
    {
      "cell_type": "markdown",
      "id": "dfdfa031",
      "metadata": {
        "id": "dfdfa031"
      },
      "source": [
        "# Update Dictionary\n",
        "The update() method will update the dictionary with the items from the given argument.\n",
        "\n",
        "The argument must be a dictionary, or an iterable object with key:value pairs."
      ]
    },
    {
      "cell_type": "code",
      "execution_count": null,
      "id": "0fee4212",
      "metadata": {
        "id": "0fee4212"
      },
      "outputs": [],
      "source": [
        "thisdict = {\n",
        "  \"brand\": \"Ford\",\n",
        "  \"model\": \"Mustang\",\n",
        "  \"year\": 1964\n",
        "}\n",
        "thisdict.update({\"year\": 2020})"
      ]
    },
    {
      "cell_type": "markdown",
      "id": "645ccf8a",
      "metadata": {
        "id": "645ccf8a"
      },
      "source": [
        "Add a color item to the dictionary by using the update() method:\n",
        "\n"
      ]
    },
    {
      "cell_type": "code",
      "execution_count": null,
      "id": "00ad10e1",
      "metadata": {
        "id": "00ad10e1"
      },
      "outputs": [],
      "source": [
        "thisdict = {\n",
        "  \"brand\": \"Ford\",\n",
        "  \"model\": \"Mustang\",\n",
        "  \"year\": 1964\n",
        "}\n",
        "thisdict.update({\"color\": \"red\"})"
      ]
    },
    {
      "cell_type": "markdown",
      "id": "d2c64b8a",
      "metadata": {
        "id": "d2c64b8a"
      },
      "source": [
        "# Removing Items\n",
        "There are several methods to remove items from a dictionary:"
      ]
    },
    {
      "cell_type": "markdown",
      "id": "fd971370",
      "metadata": {
        "id": "fd971370"
      },
      "source": [
        "The pop() method removes the item with the specified key name:\n",
        "\n"
      ]
    },
    {
      "cell_type": "code",
      "execution_count": null,
      "id": "3916c02a",
      "metadata": {
        "id": "3916c02a"
      },
      "outputs": [],
      "source": [
        "thisdict = {\n",
        "  \"brand\": \"Ford\",\n",
        "  \"model\": \"Mustang\",\n",
        "  \"year\": 1964\n",
        "}\n",
        "thisdict.pop(\"model\")\n",
        "print(thisdict)"
      ]
    },
    {
      "cell_type": "markdown",
      "id": "38f3c70b",
      "metadata": {
        "id": "38f3c70b"
      },
      "source": [
        "The popitem() method removes the last inserted item"
      ]
    },
    {
      "cell_type": "markdown",
      "id": "b444edc1",
      "metadata": {
        "id": "b444edc1"
      },
      "source": [
        "thisdict = {\n",
        "  \"brand\": \"Ford\",\n",
        "  \"model\": \"Mustang\",\n",
        "  \"year\": 1964\n",
        "}\n",
        "thisdict.popitem()\n",
        "print(thisdict)"
      ]
    },
    {
      "cell_type": "markdown",
      "id": "3ff8aec6",
      "metadata": {
        "id": "3ff8aec6"
      },
      "source": [
        "The del keyword removes the item with the specified key name:\n",
        "\n"
      ]
    },
    {
      "cell_type": "code",
      "execution_count": null,
      "id": "aa5e8908",
      "metadata": {
        "id": "aa5e8908"
      },
      "outputs": [],
      "source": [
        "thisdict = {\n",
        "  \"brand\": \"Ford\",\n",
        "  \"model\": \"Mustang\",\n",
        "  \"year\": 1964\n",
        "}\n",
        "del thisdict[\"model\"]\n",
        "print(thisdict)"
      ]
    },
    {
      "cell_type": "markdown",
      "id": "fc9076a4",
      "metadata": {
        "id": "fc9076a4"
      },
      "source": [
        "The del keyword can also delete the dictionary completely:\n",
        "\n"
      ]
    },
    {
      "cell_type": "code",
      "execution_count": null,
      "id": "8d88592e",
      "metadata": {
        "id": "8d88592e"
      },
      "outputs": [],
      "source": [
        "thisdict = {\n",
        "  \"brand\": \"Ford\",\n",
        "  \"model\": \"Mustang\",\n",
        "  \"year\": 1964\n",
        "}\n",
        "del thisdict\n",
        "print(thisdict) #this will cause an error because \"thisdict\" no longer exists."
      ]
    },
    {
      "cell_type": "markdown",
      "id": "2488c326",
      "metadata": {
        "id": "2488c326"
      },
      "source": [
        "The clear() method empties the dictionary:\n",
        "\n"
      ]
    },
    {
      "cell_type": "code",
      "execution_count": null,
      "id": "b3521b40",
      "metadata": {
        "id": "b3521b40"
      },
      "outputs": [],
      "source": [
        "thisdict = {\n",
        "  \"brand\": \"Ford\",\n",
        "  \"model\": \"Mustang\",\n",
        "  \"year\": 1964\n",
        "}\n",
        "thisdict.clear()\n",
        "print(thisdict)"
      ]
    },
    {
      "cell_type": "markdown",
      "id": "ef175ce8",
      "metadata": {
        "id": "ef175ce8"
      },
      "source": [
        "# Copy a Dictionary\n",
        "You cannot copy a dictionary simply by typing dict2 = dict1, because: dict2 will only be a reference to dict1, and changes made in dict1 will automatically also be made in dict2.\n",
        "\n",
        "There are ways to make a copy, one way is to use the built-in Dictionary method copy()."
      ]
    },
    {
      "cell_type": "code",
      "execution_count": null,
      "id": "9eb750a2",
      "metadata": {
        "id": "9eb750a2"
      },
      "outputs": [],
      "source": [
        "thisdict = {\n",
        "  \"brand\": \"Ford\",\n",
        "  \"model\": \"Mustang\",\n",
        "  \"year\": 1964\n",
        "}\n",
        "mydict = thisdict.copy()\n",
        "print(mydict)"
      ]
    },
    {
      "cell_type": "markdown",
      "id": "09c65fe7",
      "metadata": {
        "id": "09c65fe7"
      },
      "source": [
        "Make a copy of a dictionary with the dict() function:"
      ]
    },
    {
      "cell_type": "code",
      "execution_count": null,
      "id": "be2bb177",
      "metadata": {
        "id": "be2bb177"
      },
      "outputs": [],
      "source": [
        "thisdict = {\n",
        "  \"brand\": \"Ford\",\n",
        "  \"model\": \"Mustang\",\n",
        "  \"year\": 1964\n",
        "}\n",
        "mydict = dict(thisdict)\n",
        "print(mydict)"
      ]
    },
    {
      "cell_type": "markdown",
      "id": "d02b793b",
      "metadata": {
        "id": "d02b793b"
      },
      "source": [
        "# Nested Dictionaries\n",
        "A dictionary can contain dictionaries, this is called nested dictionaries."
      ]
    },
    {
      "cell_type": "code",
      "execution_count": null,
      "id": "67146142",
      "metadata": {
        "id": "67146142"
      },
      "outputs": [],
      "source": [
        "myfamily = {\n",
        "  \"child1\" : {\n",
        "    \"name\" : \"Emil\",\n",
        "    \"year\" : 2004\n",
        "  },\n",
        "  \"child2\" : {\n",
        "    \"name\" : \"Tobias\",\n",
        "    \"year\" : 2007\n",
        "  },\n",
        "  \"child3\" : {\n",
        "    \"name\" : \"Linus\",\n",
        "    \"year\" : 2011\n",
        "  }\n",
        "}"
      ]
    },
    {
      "cell_type": "markdown",
      "id": "976c5891",
      "metadata": {
        "id": "976c5891"
      },
      "source": [
        "Create three dictionaries, then create one dictionary that will contain the other three dictionaries:"
      ]
    },
    {
      "cell_type": "code",
      "execution_count": null,
      "id": "2a26f6a1",
      "metadata": {
        "id": "2a26f6a1"
      },
      "outputs": [],
      "source": [
        "child1 = {\n",
        "  \"name\" : \"Emil\",\n",
        "  \"year\" : 2004\n",
        "}\n",
        "child2 = {\n",
        "  \"name\" : \"Tobias\",\n",
        "  \"year\" : 2007\n",
        "}\n",
        "child3 = {\n",
        "  \"name\" : \"Linus\",\n",
        "  \"year\" : 2011\n",
        "}\n",
        "\n",
        "myfamily = {\n",
        "  \"child1\" : child1,\n",
        "  \"child2\" : child2,\n",
        "  \"child3\" : child3\n",
        "}"
      ]
    },
    {
      "cell_type": "markdown",
      "id": "1662f502",
      "metadata": {
        "id": "1662f502"
      },
      "source": [
        "# Access Items in Nested Dictionaries\n",
        "To access items from a nested dictionary, you use the name of the dictionaries, starting with the outer dictionary:"
      ]
    },
    {
      "cell_type": "markdown",
      "id": "2c82ae2a",
      "metadata": {
        "id": "2c82ae2a"
      },
      "source": [
        "# Set\n",
        "Sets are used to store multiple items in a single variable.\n",
        "\n",
        "A set is a collection which is unordered, unchangeable*, and unindexed. Sets are written with curly brackets."
      ]
    },
    {
      "cell_type": "code",
      "execution_count": null,
      "id": "88078080",
      "metadata": {
        "id": "88078080",
        "outputId": "888e7294-7b74-448c-ad91-e6359b260c64"
      },
      "outputs": [
        {
          "name": "stdout",
          "output_type": "stream",
          "text": [
            "{'cherry', 'apple', 'banana'}\n"
          ]
        }
      ],
      "source": [
        "thisset = {\"apple\", \"banana\", \"cherry\"}\n",
        "print(thisset)"
      ]
    },
    {
      "cell_type": "markdown",
      "id": "d40cd44e",
      "metadata": {
        "id": "d40cd44e"
      },
      "source": [
        "# Duplicates Not Allowed\n",
        "Sets cannot have two items with the same value"
      ]
    },
    {
      "cell_type": "code",
      "execution_count": null,
      "id": "58ae09b6",
      "metadata": {
        "id": "58ae09b6"
      },
      "outputs": [],
      "source": [
        "thisset = {\"apple\", \"banana\", \"cherry\", \"apple\"}\n",
        "\n",
        "print(thisset)"
      ]
    },
    {
      "cell_type": "markdown",
      "id": "1c0b7694",
      "metadata": {
        "id": "1c0b7694"
      },
      "source": [
        "The values True and 1 are considered the same value in sets, and are treated as duplicates:"
      ]
    },
    {
      "cell_type": "code",
      "execution_count": null,
      "id": "8fbac6d4",
      "metadata": {
        "id": "8fbac6d4"
      },
      "outputs": [],
      "source": [
        "thisset = {\"apple\", \"banana\", \"cherry\", True, 1, 2}\n",
        "\n",
        "print(thisset)"
      ]
    },
    {
      "cell_type": "markdown",
      "id": "0b74e2c0",
      "metadata": {
        "id": "0b74e2c0"
      },
      "source": [
        "The values False and 0 are considered the same value in sets, and are treated as duplicates:"
      ]
    },
    {
      "cell_type": "code",
      "execution_count": null,
      "id": "2e3b17d8",
      "metadata": {
        "id": "2e3b17d8"
      },
      "outputs": [],
      "source": [
        "thisset = {\"apple\", \"banana\", \"cherry\", False, True, 0}\n",
        "\n",
        "print(thisset)"
      ]
    },
    {
      "cell_type": "markdown",
      "id": "caad1919",
      "metadata": {
        "id": "caad1919"
      },
      "source": [
        "to determine how many items a set has, use the len() function."
      ]
    },
    {
      "cell_type": "code",
      "execution_count": null,
      "id": "5bfbc367",
      "metadata": {
        "id": "5bfbc367"
      },
      "outputs": [],
      "source": [
        "thisset = {\"apple\", \"banana\", \"cherry\"}\n",
        "\n",
        "print(len(thisset))"
      ]
    },
    {
      "cell_type": "markdown",
      "id": "b633cc80",
      "metadata": {
        "id": "b633cc80"
      },
      "source": [
        "# Set Items - Data Types\n",
        "Set items can be of any data type:"
      ]
    },
    {
      "cell_type": "markdown",
      "id": "bb68f074",
      "metadata": {
        "id": "bb68f074"
      },
      "source": [
        "set1 = {\"apple\", \"banana\", \"cherry\"}\n",
        "set2 = {1, 5, 7, 9, 3}\n",
        "set3 = {True, False, False}"
      ]
    },
    {
      "cell_type": "code",
      "execution_count": null,
      "id": "a0fc95d8",
      "metadata": {
        "id": "a0fc95d8"
      },
      "outputs": [],
      "source": [
        "A set can contain different data types:"
      ]
    },
    {
      "cell_type": "code",
      "execution_count": null,
      "id": "668d6acc",
      "metadata": {
        "id": "668d6acc"
      },
      "outputs": [],
      "source": [
        "set1 = {\"abc\", 34, True, 40, \"male\"}"
      ]
    },
    {
      "cell_type": "markdown",
      "id": "cb4ddbe5",
      "metadata": {
        "id": "cb4ddbe5"
      },
      "source": [
        "# type()\n",
        "What is the data type of a set?\n",
        "\n"
      ]
    },
    {
      "cell_type": "code",
      "execution_count": null,
      "id": "e8bce75a",
      "metadata": {
        "id": "e8bce75a"
      },
      "outputs": [],
      "source": [
        "myset = {\"apple\", \"banana\", \"cherry\"}\n",
        "print(type(myset))"
      ]
    },
    {
      "cell_type": "markdown",
      "id": "90404553",
      "metadata": {
        "id": "90404553"
      },
      "source": [
        "# The set() Constructor\n",
        "It is also possible to use the set() constructor to make a se"
      ]
    },
    {
      "cell_type": "code",
      "execution_count": null,
      "id": "5e4626fd",
      "metadata": {
        "id": "5e4626fd"
      },
      "outputs": [],
      "source": [
        "thisset = set((\"apple\", \"banana\", \"cherry\")) # note the double round-brackets\n",
        "print(thisset)"
      ]
    },
    {
      "cell_type": "markdown",
      "id": "8c236140",
      "metadata": {
        "id": "8c236140"
      },
      "source": [
        "# Access Items\n",
        "You cannot access items in a set by referring to an index or a key.\n",
        "\n",
        "But you can loop through the set items using a for loop, or ask if a specified value is present in a set, by using the in keyword."
      ]
    },
    {
      "cell_type": "code",
      "execution_count": null,
      "id": "97fc6629",
      "metadata": {
        "id": "97fc6629"
      },
      "outputs": [],
      "source": [
        "thisset = {\"apple\", \"banana\", \"cherry\"}\n",
        "\n",
        "for x in thisset:\n",
        "  print(x)"
      ]
    },
    {
      "cell_type": "markdown",
      "id": "4ddc5f5e",
      "metadata": {
        "id": "4ddc5f5e"
      },
      "source": [
        "Check if \"banana\" is present in the set:\n",
        "\n"
      ]
    },
    {
      "cell_type": "code",
      "execution_count": null,
      "id": "b1ef34f0",
      "metadata": {
        "id": "b1ef34f0"
      },
      "outputs": [],
      "source": [
        "thisset = {\"apple\", \"banana\", \"cherry\"}\n",
        "\n",
        "print(\"banana\" in thisset)"
      ]
    },
    {
      "cell_type": "markdown",
      "id": "9200b314",
      "metadata": {
        "id": "9200b314"
      },
      "source": [
        "Check if \"banana\" is NOT present in the set:"
      ]
    },
    {
      "cell_type": "code",
      "execution_count": null,
      "id": "2e26a515",
      "metadata": {
        "id": "2e26a515"
      },
      "outputs": [],
      "source": [
        "thisset = {\"apple\", \"banana\", \"cherry\"}\n",
        "\n",
        "print(\"banana\" not in thisset)"
      ]
    },
    {
      "cell_type": "markdown",
      "id": "a5089293",
      "metadata": {
        "id": "a5089293"
      },
      "source": [
        "# Change Items\n",
        "Once a set is created, you cannot change its items, but you can add new items."
      ]
    },
    {
      "cell_type": "markdown",
      "id": "17af881d",
      "metadata": {
        "id": "17af881d"
      },
      "source": [
        "# Add Items\n",
        "Once a set is created, you cannot change its items, but you can add new items.\n",
        "\n",
        "To add one item to a set use the add() method."
      ]
    },
    {
      "cell_type": "code",
      "execution_count": null,
      "id": "b8588ce0",
      "metadata": {
        "id": "b8588ce0",
        "outputId": "5b3ce101-8b67-42f9-9f68-63a614974bb8"
      },
      "outputs": [
        {
          "name": "stdout",
          "output_type": "stream",
          "text": [
            "{'orange', 'cherry', 'apple', 'banana'}\n"
          ]
        }
      ],
      "source": [
        "thisset = {\"apple\", \"banana\", \"cherry\"}\n",
        "\n",
        "thisset.add(\"orange\")\n",
        "\n",
        "print(thisset)"
      ]
    },
    {
      "cell_type": "markdown",
      "id": "7eae6bf3",
      "metadata": {
        "id": "7eae6bf3"
      },
      "source": [
        "# Add Sets\n",
        "To add items from another set into the current set, use the update() method."
      ]
    },
    {
      "cell_type": "code",
      "execution_count": null,
      "id": "71fa5abf",
      "metadata": {
        "id": "71fa5abf"
      },
      "outputs": [],
      "source": [
        "thisset = {\"apple\", \"banana\", \"cherry\"}\n",
        "tropical = {\"pineapple\", \"mango\", \"papaya\"}\n",
        "\n",
        "thisset.update(tropical)\n",
        "\n",
        "print(thisset)"
      ]
    },
    {
      "cell_type": "markdown",
      "id": "2a0061c4",
      "metadata": {
        "id": "2a0061c4"
      },
      "source": [
        "# Add Any Iterable\n",
        "The object in the update() method does not have to be a set, it can be any iterable object (tuples, lists, dictionaries etc.)."
      ]
    },
    {
      "cell_type": "code",
      "execution_count": null,
      "id": "25d289b9",
      "metadata": {
        "id": "25d289b9"
      },
      "outputs": [],
      "source": [
        "thisset = {\"apple\", \"banana\", \"cherry\"}\n",
        "mylist = [\"kiwi\", \"orange\"]\n",
        "\n",
        "thisset.update(mylist)\n",
        "\n",
        "print(thisset)"
      ]
    },
    {
      "cell_type": "markdown",
      "id": "f92a6d87",
      "metadata": {
        "id": "f92a6d87"
      },
      "source": [
        "# Remove Item\n",
        "To remove an item in a set, use the remove(), or the discard() method.\n",
        "Note: If the item to remove does not exist, remove() will raise an error."
      ]
    },
    {
      "cell_type": "code",
      "execution_count": null,
      "id": "f9fee60e",
      "metadata": {
        "id": "f9fee60e"
      },
      "outputs": [],
      "source": [
        "thisset = {\"apple\", \"banana\", \"cherry\"}\n",
        "\n",
        "thisset.remove(\"banana\")\n",
        "\n",
        "print(thisset)"
      ]
    },
    {
      "cell_type": "markdown",
      "id": "b361506d",
      "metadata": {
        "id": "b361506d"
      },
      "source": [
        "Remove \"banana\" by using the discard() method:. Note: If the item to remove does not exist, discard() will NOT raise an error."
      ]
    },
    {
      "cell_type": "code",
      "execution_count": null,
      "id": "8775c4b5",
      "metadata": {
        "id": "8775c4b5"
      },
      "outputs": [],
      "source": [
        "thisset = {\"apple\", \"banana\", \"cherry\"}\n",
        "\n",
        "thisset.discard(\"banana\")\n",
        "\n",
        "print(thisset)"
      ]
    },
    {
      "cell_type": "markdown",
      "id": "08d320cd",
      "metadata": {
        "id": "08d320cd"
      },
      "source": [
        "You can also use the pop() method to remove an item, but this method will remove a random item, so you cannot be sure what item that gets removed.\n",
        "\n",
        "The return value of the pop() method is the removed item.\n",
        "\n",
        "Note: Sets are unordered, so when using the pop() method, you do not know which item that gets removed"
      ]
    },
    {
      "cell_type": "code",
      "execution_count": null,
      "id": "46b8de28",
      "metadata": {
        "id": "46b8de28"
      },
      "outputs": [],
      "source": [
        "thisset = {\"apple\", \"banana\", \"cherry\"}\n",
        "\n",
        "x = thisset.pop()\n",
        "\n",
        "print(x)\n",
        "\n",
        "print(thisset)"
      ]
    },
    {
      "cell_type": "markdown",
      "id": "49fde9d3",
      "metadata": {
        "id": "49fde9d3"
      },
      "source": [
        "The clear() method empties the set:"
      ]
    },
    {
      "cell_type": "code",
      "execution_count": null,
      "id": "711ed337",
      "metadata": {
        "id": "711ed337"
      },
      "outputs": [],
      "source": [
        "thisset = {\"apple\", \"banana\", \"cherry\"}\n",
        "\n",
        "thisset.clear()\n",
        "\n",
        "print(thisset)"
      ]
    },
    {
      "cell_type": "markdown",
      "id": "14030a4f",
      "metadata": {
        "id": "14030a4f"
      },
      "source": [
        "The del keyword will delete the set completely:\n",
        "\n"
      ]
    },
    {
      "cell_type": "code",
      "execution_count": null,
      "id": "d8694774",
      "metadata": {
        "id": "d8694774"
      },
      "outputs": [],
      "source": [
        "thisset = {\"apple\", \"banana\", \"cherry\"}\n",
        "\n",
        "del thisset\n",
        "\n",
        "print(thisset)"
      ]
    },
    {
      "cell_type": "markdown",
      "id": "5020fcf1",
      "metadata": {
        "id": "5020fcf1"
      },
      "source": [
        "# Join Sets\n",
        "There are several ways to join two or more sets in Python.\n",
        "\n",
        "The union() and update() methods joins all items from both sets.\n",
        "\n",
        "The intersection() method keeps ONLY the duplicates.\n",
        "\n",
        "The difference() method keeps the items from the first set that are not in the other set(s).\n",
        "\n",
        "The symmetric_difference() method keeps all items EXCEPT the duplicates."
      ]
    },
    {
      "cell_type": "code",
      "execution_count": null,
      "id": "f812bee7",
      "metadata": {
        "id": "f812bee7"
      },
      "outputs": [],
      "source": [
        "set1 = {\"a\", \"b\", \"c\"}\n",
        "set2 = {1, 2, 3}\n",
        "\n",
        "set3 = set1.union(set2)\n",
        "print(set3)\n",
        "\n",
        "#You can use the | operator instead of the union() method, and you will get the same result.\n",
        "\n",
        "set1 = {\"a\", \"b\", \"c\"}\n",
        "set2 = {1, 2, 3}\n",
        "\n",
        "set3 = set1 | set2\n",
        "print(set3)"
      ]
    },
    {
      "cell_type": "markdown",
      "id": "e52d88d5",
      "metadata": {
        "id": "e52d88d5"
      },
      "source": [
        "# Join Multiple Sets\n",
        "All the joining methods and operators can be used to join multiple sets.\n",
        "\n",
        "When using a method, just add more sets in the parentheses, separated by commas:"
      ]
    },
    {
      "cell_type": "code",
      "execution_count": null,
      "id": "e49535c1",
      "metadata": {
        "id": "e49535c1",
        "outputId": "f528ff60-6836-4955-f34c-8034d6926781"
      },
      "outputs": [
        {
          "name": "stdout",
          "output_type": "stream",
          "text": [
            "{1, 2, 3, 'a', 'b', 'bananas', 'c', 'John', 'cherry', 'apple', 'Elena'}\n"
          ]
        }
      ],
      "source": [
        "set1 = {\"a\", \"b\", \"c\"}\n",
        "set2 = {1, 2, 3}\n",
        "set3 = {\"John\", \"Elena\"}\n",
        "set4 = {\"apple\", \"bananas\", \"cherry\"}\n",
        "\n",
        "myset = set1.union(set2, set3, set4)\n",
        "print(myset)\n",
        "\n",
        "#When using the | operator, separate the sets with more | operators:\n",
        "\n",
        "set1 = {\"a\", \"b\", \"c\"}\n",
        "set2 = {1, 2, 3}\n",
        "set3 = {\"John\", \"Elena\"}\n",
        "set4 = {\"apple\", \"bananas\", \"cherry\"}\n",
        "\n",
        "myset = set1 | set2 | set3 |set4\n",
        "print(myset)"
      ]
    },
    {
      "cell_type": "markdown",
      "id": "f2faa649",
      "metadata": {
        "id": "f2faa649"
      },
      "source": [
        "# Join a Set and a Tuple\n",
        "The union() method allows you to join a set with other data types, like lists or tuples.\n",
        "\n",
        "The result will be a set."
      ]
    },
    {
      "cell_type": "code",
      "execution_count": null,
      "id": "e3c2df7d",
      "metadata": {
        "id": "e3c2df7d"
      },
      "outputs": [],
      "source": [
        "x = {\"a\", \"b\", \"c\"}\n",
        "y = (1, 2, 3)\n",
        "\n",
        "z = x.union(y)\n",
        "print(z)"
      ]
    },
    {
      "cell_type": "markdown",
      "id": "6a81bf9c",
      "metadata": {
        "id": "6a81bf9c"
      },
      "source": [
        "Note: The  | operator only allows you to join sets with sets, and not with other data types like you can with the  union() method."
      ]
    },
    {
      "cell_type": "markdown",
      "id": "7644125c",
      "metadata": {
        "id": "7644125c"
      },
      "source": [
        "# Update\n",
        "The update() method inserts all items from one set into another.\n",
        "\n",
        "The update() changes the original set, and does not return a new set."
      ]
    },
    {
      "cell_type": "code",
      "execution_count": null,
      "id": "9eebd5fc",
      "metadata": {
        "id": "9eebd5fc"
      },
      "outputs": [],
      "source": [
        "set1 = {\"a\", \"b\" , \"c\"}\n",
        "set2 = {1, 2, 3}\n",
        "\n",
        "set1.update(set2)\n",
        "print(set1)"
      ]
    },
    {
      "cell_type": "markdown",
      "id": "fbeb97aa",
      "metadata": {
        "id": "fbeb97aa"
      },
      "source": [
        " Note: Both union() and update() will exclude any duplicate items."
      ]
    },
    {
      "cell_type": "markdown",
      "id": "0bf08274",
      "metadata": {
        "id": "0bf08274"
      },
      "source": [
        "# Intersection\n",
        "Keep ONLY the duplicates\n",
        "\n",
        "The intersection() method will return a new set, that only contains the items that are present in both sets."
      ]
    },
    {
      "cell_type": "code",
      "execution_count": null,
      "id": "16d3545c",
      "metadata": {
        "id": "16d3545c"
      },
      "outputs": [],
      "source": [
        "set1 = {\"apple\", \"banana\", \"cherry\"}\n",
        "set2 = {\"google\", \"microsoft\", \"apple\"}\n",
        "\n",
        "set3 = set1.intersection(set2)\n",
        "print(set3)\n",
        "\n",
        "#You can use the & operator instead of the intersection() method, and you will get the same result.\n",
        "#Note: The & operator only allows you to join sets with sets, and not with other data types like you can with the intersection() method.\n",
        "\n",
        "set1 = {\"apple\", \"banana\", \"cherry\"}\n",
        "set2 = {\"google\", \"microsoft\", \"apple\"}\n",
        "\n",
        "set3 = set1 & set2\n",
        "print(set3)"
      ]
    },
    {
      "cell_type": "markdown",
      "id": "48fccde1",
      "metadata": {
        "id": "48fccde1"
      },
      "source": [
        "The intersection_update() method will also keep ONLY the duplicates, but it will change the original set instead of returning a new set."
      ]
    },
    {
      "cell_type": "code",
      "execution_count": null,
      "id": "4758ae8a",
      "metadata": {
        "id": "4758ae8a"
      },
      "outputs": [],
      "source": [
        "set1 = {\"apple\", \"banana\", \"cherry\"}\n",
        "set2 = {\"google\", \"microsoft\", \"apple\"}\n",
        "\n",
        "set1.intersection_update(set2)\n",
        "\n",
        "print(set1)"
      ]
    },
    {
      "cell_type": "markdown",
      "id": "96de3354",
      "metadata": {
        "id": "96de3354"
      },
      "source": [
        "The values True and 1 are considered the same value. The same goes for False and 0.\n",
        "\n"
      ]
    },
    {
      "cell_type": "code",
      "execution_count": null,
      "id": "ba74f214",
      "metadata": {
        "id": "ba74f214"
      },
      "outputs": [],
      "source": [
        "set1 = {\"apple\", 1,  \"banana\", 0, \"cherry\"}\n",
        "set2 = {False, \"google\", 1, \"apple\", 2, True}\n",
        "\n",
        "set3 = set1.intersection(set2)\n",
        "\n",
        "print(set3)"
      ]
    },
    {
      "cell_type": "markdown",
      "id": "d2cfb735",
      "metadata": {
        "id": "d2cfb735"
      },
      "source": [
        "# Difference\n",
        "The difference() method will return a new set that will contain only the items from the first set that are not present in the other set."
      ]
    },
    {
      "cell_type": "code",
      "execution_count": null,
      "id": "ff4f01c6",
      "metadata": {
        "id": "ff4f01c6"
      },
      "outputs": [],
      "source": [
        "set1 = {\"apple\", \"banana\", \"cherry\"}\n",
        "set2 = {\"google\", \"microsoft\", \"apple\"}\n",
        "\n",
        "set3 = set1.difference(set2)\n",
        "\n",
        "print(set3)\n",
        "\n",
        "#You can use the - operator instead of the difference() method, and you will get the same result.\n",
        "\n",
        "\n",
        "set1 = {\"apple\", \"banana\", \"cherry\"}\n",
        "set2 = {\"google\", \"microsoft\", \"apple\"}\n",
        "\n",
        "set3 = set1 - set2\n",
        "print(set3)"
      ]
    },
    {
      "cell_type": "markdown",
      "id": "331ca208",
      "metadata": {
        "id": "331ca208"
      },
      "source": [
        "Note: The - operator only allows you to join sets with sets, and not with other data types like you can with the difference() method."
      ]
    },
    {
      "cell_type": "markdown",
      "id": "0880167d",
      "metadata": {
        "id": "0880167d"
      },
      "source": [
        "The difference_update() method will also keep the items from the first set that are not in the other set, but it will change the original set instead of returning a new set."
      ]
    },
    {
      "cell_type": "code",
      "execution_count": null,
      "id": "41a8ed8b",
      "metadata": {
        "id": "41a8ed8b"
      },
      "outputs": [],
      "source": [
        "set1 = {\"apple\", \"banana\", \"cherry\"}\n",
        "set2 = {\"google\", \"microsoft\", \"apple\"}\n",
        "\n",
        "set1.difference_update(set2)\n",
        "\n",
        "print(set1)"
      ]
    },
    {
      "cell_type": "markdown",
      "id": "cdfa99a1",
      "metadata": {
        "id": "cdfa99a1"
      },
      "source": [
        "# Symmetric Differences\n",
        "The symmetric_difference() method will keep only the elements that are NOT present in both sets."
      ]
    },
    {
      "cell_type": "code",
      "execution_count": null,
      "id": "1467d065",
      "metadata": {
        "id": "1467d065"
      },
      "outputs": [],
      "source": [
        "set1 = {\"apple\", \"banana\", \"cherry\"}\n",
        "set2 = {\"google\", \"microsoft\", \"apple\"}\n",
        "\n",
        "set3 = set1.symmetric_difference(set2)\n",
        "\n",
        "print(set3)"
      ]
    },
    {
      "cell_type": "markdown",
      "id": "9d5bea23",
      "metadata": {
        "id": "9d5bea23"
      },
      "source": [
        "You can use the ^ operator instead of the symmetric_difference() method, and you will get the same result.\n",
        "\n"
      ]
    },
    {
      "cell_type": "code",
      "execution_count": null,
      "id": "2e76295f",
      "metadata": {
        "id": "2e76295f"
      },
      "outputs": [],
      "source": [
        "set1 = {\"apple\", \"banana\", \"cherry\"}\n",
        "set2 = {\"google\", \"microsoft\", \"apple\"}\n",
        "\n",
        "set3 = set1 ^ set2\n",
        "print(set3)"
      ]
    },
    {
      "cell_type": "markdown",
      "id": "26db1cba",
      "metadata": {
        "id": "26db1cba"
      },
      "source": [
        "Note: The ^ operator only allows you to join sets with sets, and not with other data types like you can with the symmetric_difference() method."
      ]
    },
    {
      "cell_type": "markdown",
      "id": "9b72fdeb",
      "metadata": {
        "id": "9b72fdeb"
      },
      "source": [
        "The symmetric_difference_update() method will also keep all but the duplicates, but it will change the original set instead of returning a new set."
      ]
    },
    {
      "cell_type": "code",
      "execution_count": null,
      "id": "59d11551",
      "metadata": {
        "id": "59d11551"
      },
      "outputs": [],
      "source": [
        "set1 = {\"apple\", \"banana\", \"cherry\"}\n",
        "set2 = {\"google\", \"microsoft\", \"apple\"}\n",
        "\n",
        "set1.symmetric_difference_update(set2)\n",
        "\n",
        "print(set1)"
      ]
    },
    {
      "cell_type": "code",
      "execution_count": null,
      "id": "0df912b9",
      "metadata": {
        "id": "0df912b9"
      },
      "outputs": [],
      "source": []
    },
    {
      "cell_type": "code",
      "execution_count": null,
      "id": "865199e7",
      "metadata": {
        "id": "865199e7"
      },
      "outputs": [],
      "source": []
    },
    {
      "cell_type": "code",
      "execution_count": null,
      "id": "35f118d5",
      "metadata": {
        "id": "35f118d5"
      },
      "outputs": [],
      "source": []
    },
    {
      "cell_type": "code",
      "execution_count": null,
      "id": "f116db80",
      "metadata": {
        "id": "f116db80"
      },
      "outputs": [],
      "source": []
    },
    {
      "cell_type": "code",
      "execution_count": null,
      "id": "5bb8f223",
      "metadata": {
        "id": "5bb8f223"
      },
      "outputs": [],
      "source": []
    },
    {
      "cell_type": "code",
      "execution_count": null,
      "id": "0c170802",
      "metadata": {
        "id": "0c170802"
      },
      "outputs": [],
      "source": []
    },
    {
      "cell_type": "code",
      "execution_count": null,
      "id": "8943420e",
      "metadata": {
        "id": "8943420e"
      },
      "outputs": [],
      "source": []
    },
    {
      "cell_type": "code",
      "execution_count": null,
      "id": "ff40d5ae",
      "metadata": {
        "id": "ff40d5ae"
      },
      "outputs": [],
      "source": []
    },
    {
      "cell_type": "code",
      "execution_count": null,
      "id": "810d28a4",
      "metadata": {
        "id": "810d28a4"
      },
      "outputs": [],
      "source": []
    },
    {
      "cell_type": "code",
      "execution_count": null,
      "id": "4adfa474",
      "metadata": {
        "id": "4adfa474"
      },
      "outputs": [],
      "source": []
    },
    {
      "cell_type": "code",
      "execution_count": null,
      "id": "eb9421fc",
      "metadata": {
        "id": "eb9421fc"
      },
      "outputs": [],
      "source": []
    },
    {
      "cell_type": "code",
      "execution_count": null,
      "id": "8c5ee865",
      "metadata": {
        "id": "8c5ee865"
      },
      "outputs": [],
      "source": []
    },
    {
      "cell_type": "code",
      "execution_count": null,
      "id": "71e135a0",
      "metadata": {
        "id": "71e135a0"
      },
      "outputs": [],
      "source": []
    },
    {
      "cell_type": "code",
      "execution_count": null,
      "id": "f805fcf1",
      "metadata": {
        "id": "f805fcf1"
      },
      "outputs": [],
      "source": []
    },
    {
      "cell_type": "code",
      "execution_count": null,
      "id": "7ab57725",
      "metadata": {
        "id": "7ab57725"
      },
      "outputs": [],
      "source": []
    },
    {
      "cell_type": "code",
      "execution_count": null,
      "id": "e4bd967c",
      "metadata": {
        "id": "e4bd967c"
      },
      "outputs": [],
      "source": []
    },
    {
      "cell_type": "code",
      "execution_count": null,
      "id": "4a84a43c",
      "metadata": {
        "id": "4a84a43c"
      },
      "outputs": [],
      "source": []
    },
    {
      "cell_type": "code",
      "execution_count": null,
      "id": "04f6cfd2",
      "metadata": {
        "id": "04f6cfd2"
      },
      "outputs": [],
      "source": []
    },
    {
      "cell_type": "code",
      "execution_count": null,
      "id": "03983679",
      "metadata": {
        "id": "03983679"
      },
      "outputs": [],
      "source": []
    }
  ],
  "metadata": {
    "kernelspec": {
      "display_name": "Python 3 (ipykernel)",
      "language": "python",
      "name": "python3"
    },
    "language_info": {
      "codemirror_mode": {
        "name": "ipython",
        "version": 3
      },
      "file_extension": ".py",
      "mimetype": "text/x-python",
      "name": "python",
      "nbconvert_exporter": "python",
      "pygments_lexer": "ipython3",
      "version": "3.11.5"
    },
    "colab": {
      "provenance": []
    }
  },
  "nbformat": 4,
  "nbformat_minor": 5
}