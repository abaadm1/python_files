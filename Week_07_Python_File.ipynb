{
  "cells": [
    {
      "cell_type": "markdown",
      "id": "2e5de74b",
      "metadata": {
        "id": "2e5de74b"
      },
      "source": [
        "# Python File Open\n",
        "File handling is an important part of any web application.\n",
        "\n",
        "Python has several functions for creating, reading, updating, and deleting files.\n",
        "\n"
      ]
    },
    {
      "cell_type": "markdown",
      "id": "fee6d609",
      "metadata": {
        "id": "fee6d609"
      },
      "source": [
        "# File Handling\n",
        "The key function for working with files in Python is the open() function.\n",
        "\n",
        "The open() function takes two parameters; filename, and mode.\n",
        "\n",
        "There are four different methods (modes) for opening a file:\n",
        "\n",
        "\"r\" - Read - Default value. Opens a file for reading, error if the file does not exist\n",
        "\n",
        "\"a\" - Append - Opens a file for appending, creates the file if it does not exist\n",
        "\n",
        "\"w\" - Write - Opens a file for writing, creates the file if it does not exist\n",
        "\n",
        "\"x\" - Create - Creates the specified file, returns an error if the file exists\n",
        "\n",
        "In addition you can specify if the file should be handled as binary or text mode\n",
        "\n",
        "\"t\" - Text - Default value. Text mode\n",
        "\n",
        "\"b\" - Binary - Binary mode (e.g. images)"
      ]
    },
    {
      "cell_type": "markdown",
      "id": "ba7e87b3",
      "metadata": {
        "id": "ba7e87b3"
      },
      "source": [
        "# Syntax\n",
        "To open a file for reading it is enough to specify the name of the file:"
      ]
    },
    {
      "cell_type": "code",
      "execution_count": 5,
      "id": "f4a29d67",
      "metadata": {
        "id": "f4a29d67"
      },
      "outputs": [],
      "source": [
        "f = open(\"demofile.txt\")\n"
      ]
    },
    {
      "cell_type": "markdown",
      "id": "f5f4a044",
      "metadata": {
        "id": "f5f4a044"
      },
      "source": [
        "The code above is the same as:\n",
        "\n"
      ]
    },
    {
      "cell_type": "code",
      "execution_count": 3,
      "id": "b888a6a1",
      "metadata": {
        "id": "b888a6a1"
      },
      "outputs": [],
      "source": [
        "f = open(\"demofile.txt\", \"rt\")\n"
      ]
    },
    {
      "cell_type": "markdown",
      "id": "fcf61b15",
      "metadata": {
        "id": "fcf61b15"
      },
      "source": [
        "Because \"r\" for read, and \"t\" for text are the default values, you do not need to specify them.\n",
        "\n"
      ]
    },
    {
      "cell_type": "markdown",
      "id": "9df31613",
      "metadata": {
        "id": "9df31613"
      },
      "source": [
        "# Open a File on the Server\n",
        "Assume we have the following file, located in the same folder as Python:"
      ]
    },
    {
      "cell_type": "markdown",
      "id": "92367044",
      "metadata": {
        "id": "92367044"
      },
      "source": [
        "#file name --> demofile.txt\n",
        "\n",
        "Hello! Welcome to demofile.txt\n",
        "\n",
        "This file is for testing purposes.\n",
        "\n",
        "Good Luck!"
      ]
    },
    {
      "cell_type": "markdown",
      "id": "6dc51947",
      "metadata": {
        "id": "6dc51947"
      },
      "source": [
        "To open the file, use the built-in open() function.\n",
        "\n",
        "The open() function returns a file object, which has a read() method for reading the content of the file:"
      ]
    },
    {
      "cell_type": "code",
      "execution_count": null,
      "id": "3e84bafa",
      "metadata": {
        "colab": {
          "base_uri": "https://localhost:8080/"
        },
        "id": "3e84bafa",
        "outputId": "a8bbb6d4-d7a7-4d2e-8bac-eaab7b1632a4"
      },
      "outputs": [
        {
          "output_type": "stream",
          "name": "stdout",
          "text": [
            "Hello! Welcome to demofile.txt\n",
            "\n",
            "This file is for testing purposes.\n",
            "\n",
            "Good Luck!\n"
          ]
        }
      ],
      "source": [
        "f = open(\"demofile.txt\", \"r\")\n",
        "print(f.read())"
      ]
    },
    {
      "cell_type": "markdown",
      "id": "923a4ada",
      "metadata": {
        "id": "923a4ada"
      },
      "source": [
        "If the file is located in a different location, you will have to specify the file path, like this:\n",
        "\n"
      ]
    },
    {
      "cell_type": "code",
      "execution_count": null,
      "id": "9dd2b317",
      "metadata": {
        "id": "9dd2b317"
      },
      "outputs": [],
      "source": [
        "f = open(\"D:\\\\myfiles\\welcome.txt\", \"r\")\n",
        "print(f.read())"
      ]
    },
    {
      "cell_type": "markdown",
      "id": "b92cb4cf",
      "metadata": {
        "id": "b92cb4cf"
      },
      "source": [
        "# Read Only Parts of the File\n",
        "By default the read() method returns the whole text, but you can also specify how many characters you want to return:"
      ]
    },
    {
      "cell_type": "code",
      "execution_count": null,
      "id": "feeadb32",
      "metadata": {
        "colab": {
          "base_uri": "https://localhost:8080/"
        },
        "id": "feeadb32",
        "outputId": "6855937f-6e82-4a15-8289-c51182088298"
      },
      "outputs": [
        {
          "output_type": "stream",
          "name": "stdout",
          "text": [
            "Hello! Wel\n"
          ]
        }
      ],
      "source": [
        "f = open(\"demofile.txt\", \"r\")\n",
        "print(f.read(10))"
      ]
    },
    {
      "cell_type": "markdown",
      "id": "1f1d515b",
      "metadata": {
        "id": "1f1d515b"
      },
      "source": [
        "# Read Lines\n",
        "You can return one line by using the readline() method:"
      ]
    },
    {
      "cell_type": "code",
      "execution_count": null,
      "id": "387ec805",
      "metadata": {
        "colab": {
          "base_uri": "https://localhost:8080/"
        },
        "id": "387ec805",
        "outputId": "9d5344fb-fad1-4cb7-8f43-075b06457c06"
      },
      "outputs": [
        {
          "output_type": "stream",
          "name": "stdout",
          "text": [
            "Hello! Welcome to demofile.txt\n",
            "\n"
          ]
        }
      ],
      "source": [
        "f = open(\"demofile.txt\", \"r\")\n",
        "print(f.readline())"
      ]
    },
    {
      "cell_type": "markdown",
      "id": "3dc61ec1",
      "metadata": {
        "id": "3dc61ec1"
      },
      "source": [
        "By calling readline() two times, you can read the two first lines:\n",
        "\n"
      ]
    },
    {
      "cell_type": "code",
      "execution_count": null,
      "id": "d8c1752e",
      "metadata": {
        "colab": {
          "base_uri": "https://localhost:8080/"
        },
        "id": "d8c1752e",
        "outputId": "3a18a8f7-72b0-44c4-a469-687563db88d1"
      },
      "outputs": [
        {
          "output_type": "stream",
          "name": "stdout",
          "text": [
            "Hello! Welcome to demofile.txt\n",
            "\n",
            "\n",
            "\n"
          ]
        }
      ],
      "source": [
        "f = open(\"demofile.txt\", \"r\")\n",
        "print(f.readline())\n",
        "print(f.readline())\n"
      ]
    },
    {
      "cell_type": "markdown",
      "id": "a7f0286b",
      "metadata": {
        "id": "a7f0286b"
      },
      "source": [
        "By looping through the lines of the file, you can read the whole file, line by line:\n",
        "\n"
      ]
    },
    {
      "cell_type": "code",
      "execution_count": null,
      "id": "d02306a5",
      "metadata": {
        "id": "d02306a5"
      },
      "outputs": [],
      "source": [
        "f = open(\"demofile.txt\", \"r\")\n",
        "for x in f:\n",
        "  print(x)"
      ]
    },
    {
      "cell_type": "markdown",
      "id": "e040cc1f",
      "metadata": {
        "id": "e040cc1f"
      },
      "source": [
        "# Close Files\n",
        "It is a good practice to always close the file when you are done with it."
      ]
    },
    {
      "cell_type": "code",
      "execution_count": null,
      "id": "c39680c4",
      "metadata": {
        "id": "c39680c4"
      },
      "outputs": [],
      "source": [
        "f = open(\"demofile.txt\", \"r\")\n",
        "print(f.readline())\n",
        "f.close()"
      ]
    },
    {
      "cell_type": "code",
      "source": [
        "with open('example.txt', 'r') as file:\n",
        "    contents = file.read()\n",
        "# No need to explicitly call file.close()\n"
      ],
      "metadata": {
        "id": "YLpGKHBxdFmQ"
      },
      "id": "YLpGKHBxdFmQ",
      "execution_count": null,
      "outputs": []
    },
    {
      "cell_type": "markdown",
      "id": "6f570547",
      "metadata": {
        "id": "6f570547"
      },
      "source": [
        "# Write to an Existing File\n",
        "To write to an existing file, you must add a parameter to the open() function:\n",
        "\n",
        "\"a\" - Append - will append to the end of the file\n",
        "\n",
        "\"w\" - Write - will overwrite any existing content"
      ]
    },
    {
      "cell_type": "code",
      "execution_count": null,
      "id": "ce0771b6",
      "metadata": {
        "id": "ce0771b6"
      },
      "outputs": [],
      "source": [
        "#Open the file \"demofile2.txt\" and append content to the file:\n",
        "\n",
        "f = open(\"demofile2.txt\", \"a\")\n",
        "f.write(\"Now the file has more content!\")\n",
        "f.close()\n",
        "\n",
        "#open and read the file after the appending:\n",
        "f = open(\"demofile2.txt\", \"r\")\n",
        "print(f.read())"
      ]
    },
    {
      "cell_type": "code",
      "source": [
        "# Open the file \"demofile2.txt\" and append content to the file:\n",
        "with open(\"demofile2.txt\", \"a\") as f:\n",
        "    f.write(\"Now the file has more content!\")\n",
        "\n",
        "# Open and read the file after appending:\n",
        "with open(\"demofile2.txt\", \"r\") as f:\n",
        "    print(f.read())\n"
      ],
      "metadata": {
        "id": "ZlESQECedkUH"
      },
      "id": "ZlESQECedkUH",
      "execution_count": null,
      "outputs": []
    },
    {
      "cell_type": "markdown",
      "source": [
        "Open the file \"demofile3.txt\" and overwrite the content:\n",
        "\n"
      ],
      "metadata": {
        "id": "PcqEjN4uQSJF"
      },
      "id": "PcqEjN4uQSJF"
    },
    {
      "cell_type": "code",
      "execution_count": null,
      "id": "8d813d42",
      "metadata": {
        "id": "8d813d42"
      },
      "outputs": [],
      "source": [
        "f = open(\"demofile3.txt\", \"w\")\n",
        "f.write(\"Woops! I have deleted the content!\")\n",
        "f.close()\n",
        "\n",
        "#open and read the file after the overwriting:\n",
        "f = open(\"demofile3.txt\", \"r\")\n",
        "print(f.read())"
      ]
    },
    {
      "cell_type": "markdown",
      "id": "7d673561",
      "metadata": {
        "id": "7d673561"
      },
      "source": [
        "# Create a New File\n",
        "To create a new file in Python, use the open() method, with one of the following parameters:\n",
        "\n",
        "\"x\" - Create - will create a file, returns an error if the file exist\n",
        "\n",
        "\"a\" - Append - will create a file if the specified file does not exist\n",
        "\n",
        "\"w\" - Write - will create a file if the specified file does not exist"
      ]
    },
    {
      "cell_type": "markdown",
      "id": "055f1358",
      "metadata": {
        "id": "055f1358"
      },
      "source": [
        "Create a file called \"myfile.txt\":\n",
        "\n"
      ]
    },
    {
      "cell_type": "code",
      "execution_count": 7,
      "id": "7bb6e83c",
      "metadata": {
        "id": "7bb6e83c",
        "colab": {
          "base_uri": "https://localhost:8080/",
          "height": 141
        },
        "outputId": "745ddd83-e52a-4d8d-dcb9-6caaf30818a3"
      },
      "outputs": [
        {
          "output_type": "error",
          "ename": "FileExistsError",
          "evalue": "[Errno 17] File exists: 'myfile.txt'",
          "traceback": [
            "\u001b[0;31m---------------------------------------------------------------------------\u001b[0m",
            "\u001b[0;31mFileExistsError\u001b[0m                           Traceback (most recent call last)",
            "\u001b[0;32m<ipython-input-7-8c90a6f04865>\u001b[0m in \u001b[0;36m<cell line: 1>\u001b[0;34m()\u001b[0m\n\u001b[0;32m----> 1\u001b[0;31m \u001b[0mf\u001b[0m \u001b[0;34m=\u001b[0m \u001b[0mopen\u001b[0m\u001b[0;34m(\u001b[0m\u001b[0;34m\"myfile.txt\"\u001b[0m\u001b[0;34m,\u001b[0m \u001b[0;34m\"x\"\u001b[0m\u001b[0;34m)\u001b[0m\u001b[0;34m\u001b[0m\u001b[0;34m\u001b[0m\u001b[0m\n\u001b[0m",
            "\u001b[0;31mFileExistsError\u001b[0m: [Errno 17] File exists: 'myfile.txt'"
          ]
        }
      ],
      "source": [
        "f = open(\"myfile.txt\", \"x\")"
      ]
    },
    {
      "cell_type": "markdown",
      "id": "d19213ab",
      "metadata": {
        "id": "d19213ab"
      },
      "source": [
        "Create a new file if it does not exist:\n",
        "\n"
      ]
    },
    {
      "cell_type": "code",
      "execution_count": 8,
      "id": "afa7668a",
      "metadata": {
        "id": "afa7668a"
      },
      "outputs": [],
      "source": [
        "f = open(\"myfile.txt\", \"w\")\n"
      ]
    },
    {
      "cell_type": "markdown",
      "id": "9ddeaa0c",
      "metadata": {
        "id": "9ddeaa0c"
      },
      "source": [
        "# Delete a File\n",
        "To delete a file, you must import the OS module, and run its os.remove() function:"
      ]
    },
    {
      "cell_type": "markdown",
      "id": "b5625e57",
      "metadata": {
        "id": "b5625e57"
      },
      "source": [
        "Remove the file \"demofile.txt\":\n",
        "\n"
      ]
    },
    {
      "cell_type": "code",
      "execution_count": 9,
      "id": "06b2ed44",
      "metadata": {
        "id": "06b2ed44"
      },
      "outputs": [],
      "source": [
        "import os\n",
        "os.remove(\"myfile.txt\")"
      ]
    },
    {
      "cell_type": "markdown",
      "id": "1d21ea35",
      "metadata": {
        "id": "1d21ea35"
      },
      "source": [
        "# Check if File exist:\n",
        "To avoid getting an error, you might want to check if the file exists before you try to delete it:"
      ]
    },
    {
      "cell_type": "code",
      "execution_count": null,
      "id": "85c4167c",
      "metadata": {
        "id": "85c4167c"
      },
      "outputs": [],
      "source": [
        "import os\n",
        "if os.path.exists(\"demofile.txt\"):\n",
        "  os.remove(\"demofile.txt\")\n",
        "else:\n",
        "  print(\"The file does not exist\")"
      ]
    },
    {
      "cell_type": "markdown",
      "id": "4f7f502e",
      "metadata": {
        "id": "4f7f502e"
      },
      "source": [
        "# Delete Folder\n",
        "To delete an entire folder, use the os.rmdir() method:"
      ]
    },
    {
      "cell_type": "code",
      "execution_count": null,
      "id": "c9d0defe",
      "metadata": {
        "id": "c9d0defe"
      },
      "outputs": [],
      "source": [
        "import os\n",
        "os.rmdir(\"myfolder\")"
      ]
    },
    {
      "cell_type": "markdown",
      "id": "0605e713",
      "metadata": {
        "id": "0605e713"
      },
      "source": [
        "Note: You can only remove empty folders.\n",
        "\n"
      ]
    },
    {
      "cell_type": "code",
      "source": [
        "try:\n",
        "    with open(\"my_file.txt\", \"r\") as file:\n",
        "        content = file.read()\n",
        "        print(content)\n",
        "except FileNotFoundError:\n",
        "    print(\"Oops! The file doesn't exist.\")\n",
        "except IOError:\n",
        "    print(\"Oops! Something went wrong while reading the file.\")\n"
      ],
      "metadata": {
        "id": "Hm4qYxYpejzs"
      },
      "id": "Hm4qYxYpejzs",
      "execution_count": null,
      "outputs": []
    },
    {
      "cell_type": "markdown",
      "source": [
        "Exercise: Copy Content from one file and paste it into another"
      ],
      "metadata": {
        "id": "p8brm_CicEdU"
      },
      "id": "p8brm_CicEdU"
    },
    {
      "cell_type": "code",
      "source": [
        "# Open the source file in read mode\n",
        "with open('source.txt', 'r') as source_file:\n",
        "    # Read the contents of the source file\n",
        "    contents = source_file.read()\n",
        "\n",
        "# Open the destination file in write mode\n",
        "with open('destination.txt', 'w') as destination_file:\n",
        "    # Write the contents to the destination file\n",
        "    destination_file.write(contents)\n"
      ],
      "metadata": {
        "id": "8yKClxVjcKYv"
      },
      "id": "8yKClxVjcKYv",
      "execution_count": null,
      "outputs": []
    },
    {
      "cell_type": "markdown",
      "source": [
        "Write a Python script to search for a specific word in the file and count how many times it appears.\n",
        "\n",
        "\n",
        "Content for file:\n",
        "\n",
        "This is a sample document for testing the search functionality. The purpose of this document is to provide a simple text with multiple occurrences of the word 'sample'.\n",
        "The word 'sample' appears several times in this document. You can use this document to practice searching for the word 'sample' and counting its occurrences.\n",
        "This document contains various lines of text. Each line is designed to include the word 'sample' at least once. The goal is to ensure that the search functionality can accurately count how many times the word 'sample' appears in the entire document.\n",
        "Feel free to add more lines or modify the existing lines to make the search exercise more challenging. The more occurrences of the word 'sample' you add, the better the practice will be for counting words in a file.\n"
      ],
      "metadata": {
        "id": "AbnltiCTcenm"
      },
      "id": "AbnltiCTcenm"
    },
    {
      "cell_type": "code",
      "source": [
        "# Define the word to search for\n",
        "search_word = 'sample'\n",
        "\n",
        "# Initialize the counter\n",
        "count = 0\n",
        "\n",
        "# Open the file in read mode\n",
        "with open('document.txt', 'r') as file:\n",
        "    # Read each line from the file\n",
        "    for line in file:\n",
        "        # Split the line into words\n",
        "        words = line.split()\n",
        "        # Count the occurrences of the search word\n",
        "        count += words.count(search_word)\n",
        "\n",
        "# Print the count\n",
        "print(f'The word \"{search_word}\" appears {count} times in the file.')\n"
      ],
      "metadata": {
        "id": "zz6rhT2icfMi"
      },
      "id": "zz6rhT2icfMi",
      "execution_count": null,
      "outputs": []
    }
  ],
  "metadata": {
    "kernelspec": {
      "display_name": "Python 3 (ipykernel)",
      "language": "python",
      "name": "python3"
    },
    "language_info": {
      "codemirror_mode": {
        "name": "ipython",
        "version": 3
      },
      "file_extension": ".py",
      "mimetype": "text/x-python",
      "name": "python",
      "nbconvert_exporter": "python",
      "pygments_lexer": "ipython3",
      "version": "3.11.5"
    },
    "colab": {
      "provenance": []
    }
  },
  "nbformat": 4,
  "nbformat_minor": 5
}