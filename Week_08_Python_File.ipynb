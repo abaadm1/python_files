{
  "cells": [
    {
      "cell_type": "markdown",
      "source": [
        "# Error - Types"
      ],
      "metadata": {
        "id": "Mpkte_3lXRzP"
      },
      "id": "Mpkte_3lXRzP"
    },
    {
      "cell_type": "markdown",
      "source": [
        "Syntax Error"
      ],
      "metadata": {
        "id": "Gujdh47CXVmx"
      },
      "id": "Gujdh47CXVmx"
    },
    {
      "cell_type": "code",
      "source": [
        "a = \"Hello world"
      ],
      "metadata": {
        "id": "88ft-_-0XV0s",
        "colab": {
          "base_uri": "https://localhost:8080/",
          "height": 106
        },
        "outputId": "724b1366-b565-4cdb-cd69-b6b9dcfee4b5"
      },
      "id": "88ft-_-0XV0s",
      "execution_count": null,
      "outputs": [
        {
          "output_type": "error",
          "ename": "SyntaxError",
          "evalue": "unterminated string literal (detected at line 1) (<ipython-input-6-9ec8cc2f1f01>, line 1)",
          "traceback": [
            "\u001b[0;36m  File \u001b[0;32m\"<ipython-input-6-9ec8cc2f1f01>\"\u001b[0;36m, line \u001b[0;32m1\u001b[0m\n\u001b[0;31m    a = \"Hello world\u001b[0m\n\u001b[0m        ^\u001b[0m\n\u001b[0;31mSyntaxError\u001b[0m\u001b[0;31m:\u001b[0m unterminated string literal (detected at line 1)\n"
          ]
        }
      ]
    },
    {
      "cell_type": "markdown",
      "source": [
        "Zero Division Error"
      ],
      "metadata": {
        "id": "WBwvmH5WXYOn"
      },
      "id": "WBwvmH5WXYOn"
    },
    {
      "cell_type": "code",
      "source": [
        "a = 1000\n",
        "b = 0\n",
        "\n",
        "c = a/b\n",
        "print(c)"
      ],
      "metadata": {
        "id": "ybsubL3qXb-J",
        "colab": {
          "base_uri": "https://localhost:8080/",
          "height": 193
        },
        "outputId": "371b7636-17a8-4cfb-9ae0-ad65223efbab"
      },
      "id": "ybsubL3qXb-J",
      "execution_count": null,
      "outputs": [
        {
          "output_type": "error",
          "ename": "ZeroDivisionError",
          "evalue": "division by zero",
          "traceback": [
            "\u001b[0;31m---------------------------------------------------------------------------\u001b[0m",
            "\u001b[0;31mZeroDivisionError\u001b[0m                         Traceback (most recent call last)",
            "\u001b[0;32m<ipython-input-7-9a4a947c19ad>\u001b[0m in \u001b[0;36m<cell line: 4>\u001b[0;34m()\u001b[0m\n\u001b[1;32m      2\u001b[0m \u001b[0mb\u001b[0m \u001b[0;34m=\u001b[0m \u001b[0;36m0\u001b[0m\u001b[0;34m\u001b[0m\u001b[0;34m\u001b[0m\u001b[0m\n\u001b[1;32m      3\u001b[0m \u001b[0;34m\u001b[0m\u001b[0m\n\u001b[0;32m----> 4\u001b[0;31m \u001b[0mc\u001b[0m \u001b[0;34m=\u001b[0m \u001b[0ma\u001b[0m\u001b[0;34m/\u001b[0m\u001b[0mb\u001b[0m\u001b[0;34m\u001b[0m\u001b[0;34m\u001b[0m\u001b[0m\n\u001b[0m\u001b[1;32m      5\u001b[0m \u001b[0mprint\u001b[0m\u001b[0;34m(\u001b[0m\u001b[0mc\u001b[0m\u001b[0;34m)\u001b[0m\u001b[0;34m\u001b[0m\u001b[0;34m\u001b[0m\u001b[0m\n",
            "\u001b[0;31mZeroDivisionError\u001b[0m: division by zero"
          ]
        }
      ]
    },
    {
      "cell_type": "markdown",
      "source": [
        "Index Error"
      ],
      "metadata": {
        "id": "2BMp_8a-XemT"
      },
      "id": "2BMp_8a-XemT"
    },
    {
      "cell_type": "code",
      "source": [
        "fruits = ['apple', 'banana', 'cherry']\n",
        "fruits[3]"
      ],
      "metadata": {
        "id": "uWRkJsm_XgzJ",
        "colab": {
          "base_uri": "https://localhost:8080/",
          "height": 158
        },
        "outputId": "531a6d87-309d-46ba-ae0d-39af59696155"
      },
      "id": "uWRkJsm_XgzJ",
      "execution_count": null,
      "outputs": [
        {
          "output_type": "error",
          "ename": "IndexError",
          "evalue": "list index out of range",
          "traceback": [
            "\u001b[0;31m---------------------------------------------------------------------------\u001b[0m",
            "\u001b[0;31mIndexError\u001b[0m                                Traceback (most recent call last)",
            "\u001b[0;32m<ipython-input-9-ddd5e2a779d2>\u001b[0m in \u001b[0;36m<cell line: 2>\u001b[0;34m()\u001b[0m\n\u001b[1;32m      1\u001b[0m \u001b[0mfruits\u001b[0m \u001b[0;34m=\u001b[0m \u001b[0;34m[\u001b[0m\u001b[0;34m'apple'\u001b[0m\u001b[0;34m,\u001b[0m \u001b[0;34m'banana'\u001b[0m\u001b[0;34m,\u001b[0m \u001b[0;34m'cherry'\u001b[0m\u001b[0;34m]\u001b[0m\u001b[0;34m\u001b[0m\u001b[0;34m\u001b[0m\u001b[0m\n\u001b[0;32m----> 2\u001b[0;31m \u001b[0mfruits\u001b[0m\u001b[0;34m[\u001b[0m\u001b[0;36m3\u001b[0m\u001b[0;34m]\u001b[0m\u001b[0;34m\u001b[0m\u001b[0;34m\u001b[0m\u001b[0m\n\u001b[0m",
            "\u001b[0;31mIndexError\u001b[0m: list index out of range"
          ]
        }
      ]
    },
    {
      "cell_type": "markdown",
      "source": [
        "Name Error"
      ],
      "metadata": {
        "id": "nZQrzC1fXhyq"
      },
      "id": "nZQrzC1fXhyq"
    },
    {
      "cell_type": "code",
      "source": [
        "def myfunc():\n",
        "  x = 100\n",
        "\n",
        "print(x)"
      ],
      "metadata": {
        "id": "pKLs8b1GXi8u",
        "colab": {
          "base_uri": "https://localhost:8080/",
          "height": 176
        },
        "outputId": "4d618c99-5fa5-4350-fa50-e765e8a0fa3e"
      },
      "id": "pKLs8b1GXi8u",
      "execution_count": null,
      "outputs": [
        {
          "output_type": "error",
          "ename": "NameError",
          "evalue": "name 'x' is not defined",
          "traceback": [
            "\u001b[0;31m---------------------------------------------------------------------------\u001b[0m",
            "\u001b[0;31mNameError\u001b[0m                                 Traceback (most recent call last)",
            "\u001b[0;32m<ipython-input-10-ab0ee7ef52d7>\u001b[0m in \u001b[0;36m<cell line: 4>\u001b[0;34m()\u001b[0m\n\u001b[1;32m      2\u001b[0m   \u001b[0mx\u001b[0m \u001b[0;34m=\u001b[0m \u001b[0;36m100\u001b[0m\u001b[0;34m\u001b[0m\u001b[0;34m\u001b[0m\u001b[0m\n\u001b[1;32m      3\u001b[0m \u001b[0;34m\u001b[0m\u001b[0m\n\u001b[0;32m----> 4\u001b[0;31m \u001b[0mprint\u001b[0m\u001b[0;34m(\u001b[0m\u001b[0mx\u001b[0m\u001b[0;34m)\u001b[0m\u001b[0;34m\u001b[0m\u001b[0;34m\u001b[0m\u001b[0m\n\u001b[0m",
            "\u001b[0;31mNameError\u001b[0m: name 'x' is not defined"
          ]
        }
      ]
    },
    {
      "cell_type": "markdown",
      "source": [
        "Value Error"
      ],
      "metadata": {
        "id": "2m8lttf0XlPU"
      },
      "id": "2m8lttf0XlPU"
    },
    {
      "cell_type": "code",
      "source": [
        "float(\"stringgg\")"
      ],
      "metadata": {
        "id": "FxBAu6E2Xml4",
        "colab": {
          "base_uri": "https://localhost:8080/",
          "height": 141
        },
        "outputId": "aad7e06c-bc1d-4751-83ac-31a9a1193c74"
      },
      "id": "FxBAu6E2Xml4",
      "execution_count": null,
      "outputs": [
        {
          "output_type": "error",
          "ename": "ValueError",
          "evalue": "could not convert string to float: 'stringgg'",
          "traceback": [
            "\u001b[0;31m---------------------------------------------------------------------------\u001b[0m",
            "\u001b[0;31mValueError\u001b[0m                                Traceback (most recent call last)",
            "\u001b[0;32m<ipython-input-13-b271f1bd37a8>\u001b[0m in \u001b[0;36m<cell line: 1>\u001b[0;34m()\u001b[0m\n\u001b[0;32m----> 1\u001b[0;31m \u001b[0mfloat\u001b[0m\u001b[0;34m(\u001b[0m\u001b[0;34m\"stringgg\"\u001b[0m\u001b[0;34m)\u001b[0m\u001b[0;34m\u001b[0m\u001b[0;34m\u001b[0m\u001b[0m\n\u001b[0m",
            "\u001b[0;31mValueError\u001b[0m: could not convert string to float: 'stringgg'"
          ]
        }
      ]
    },
    {
      "cell_type": "markdown",
      "id": "9aac6246",
      "metadata": {
        "id": "9aac6246"
      },
      "source": [
        "# Exception Handling\n",
        "When an error occurs, or exception as we call it, Python will normally stop and generate an error message.\n",
        "\n",
        "These exceptions can be handled using the try statement:"
      ]
    },
    {
      "cell_type": "code",
      "source": [
        "print(x)"
      ],
      "metadata": {
        "id": "yNP0-9qYYieb",
        "colab": {
          "base_uri": "https://localhost:8080/",
          "height": 141
        },
        "outputId": "1bb18a4f-8beb-4f0b-d460-2eecf35e1ff0"
      },
      "id": "yNP0-9qYYieb",
      "execution_count": null,
      "outputs": [
        {
          "output_type": "error",
          "ename": "NameError",
          "evalue": "name 'x' is not defined",
          "traceback": [
            "\u001b[0;31m---------------------------------------------------------------------------\u001b[0m",
            "\u001b[0;31mNameError\u001b[0m                                 Traceback (most recent call last)",
            "\u001b[0;32m<ipython-input-15-fc17d851ef81>\u001b[0m in \u001b[0;36m<cell line: 1>\u001b[0;34m()\u001b[0m\n\u001b[0;32m----> 1\u001b[0;31m \u001b[0mprint\u001b[0m\u001b[0;34m(\u001b[0m\u001b[0mx\u001b[0m\u001b[0;34m)\u001b[0m\u001b[0;34m\u001b[0m\u001b[0;34m\u001b[0m\u001b[0m\n\u001b[0m",
            "\u001b[0;31mNameError\u001b[0m: name 'x' is not defined"
          ]
        }
      ]
    },
    {
      "cell_type": "markdown",
      "id": "90720ffd",
      "metadata": {
        "id": "90720ffd"
      },
      "source": [
        "The try block will generate an exception, because x is not defined:\n",
        "\n"
      ]
    },
    {
      "cell_type": "code",
      "execution_count": null,
      "id": "b99cb347",
      "metadata": {
        "id": "b99cb347",
        "colab": {
          "base_uri": "https://localhost:8080/"
        },
        "outputId": "b425c958-8dc2-4d85-aa0c-a71584f4e277"
      },
      "outputs": [
        {
          "output_type": "stream",
          "name": "stdout",
          "text": [
            "There's an error\n"
          ]
        }
      ],
      "source": [
        "try:\n",
        "  print(x)\n",
        "except:\n",
        "  print(\"There's an error\")"
      ]
    },
    {
      "cell_type": "markdown",
      "id": "085b9d5d",
      "metadata": {
        "id": "085b9d5d"
      },
      "source": [
        "Since the try block raises an error, the except block will be executed.\n",
        "\n",
        "Without the try block, the program will crash and raise an error:"
      ]
    },
    {
      "cell_type": "markdown",
      "id": "3284fbc7",
      "metadata": {
        "id": "3284fbc7"
      },
      "source": [
        "# Many Exceptions\n",
        "You can define as many exception blocks as you want, e.g. if you want to execute a special block of code for a special kind of error:"
      ]
    },
    {
      "cell_type": "code",
      "execution_count": null,
      "id": "5ee4c9ac",
      "metadata": {
        "id": "5ee4c9ac",
        "colab": {
          "base_uri": "https://localhost:8080/"
        },
        "outputId": "4dd13c82-fbb2-456b-93ff-4d50e3410cce"
      },
      "outputs": [
        {
          "output_type": "stream",
          "name": "stdout",
          "text": [
            "You are accessing a undefined variable\n"
          ]
        }
      ],
      "source": [
        "try:\n",
        "  print(x)\n",
        "except NameError:\n",
        "  print(\"You are accessing a undefined variable\")\n",
        "except:\n",
        "  print(\"There's an error\")"
      ]
    },
    {
      "cell_type": "markdown",
      "id": "4b37270b",
      "metadata": {
        "id": "4b37270b"
      },
      "source": [
        "Example\n",
        "In this example, the try block does not generate any error:"
      ]
    },
    {
      "cell_type": "code",
      "execution_count": null,
      "id": "2b9f9b1a",
      "metadata": {
        "id": "2b9f9b1a",
        "colab": {
          "base_uri": "https://localhost:8080/"
        },
        "outputId": "094fc21b-12a5-4bfe-9a81-85f1cc2ef57c"
      },
      "outputs": [
        {
          "output_type": "stream",
          "name": "stdout",
          "text": [
            "2\n",
            "No Fault detected\n"
          ]
        }
      ],
      "source": [
        "try:\n",
        "  x=2\n",
        "  print(x)\n",
        "except NameError:\n",
        "  print(\"You are accessing a undefined variable\")\n",
        "except:\n",
        "  print(\"There's an error\")\n",
        "else:\n",
        "  print(\"No Fault detected\")"
      ]
    },
    {
      "cell_type": "markdown",
      "id": "0c91e421",
      "metadata": {
        "id": "0c91e421"
      },
      "source": [
        "# Finally\n",
        "The finally block, if specified, will be executed regardless if the try block raises an error or not."
      ]
    },
    {
      "cell_type": "code",
      "execution_count": null,
      "id": "da7bb70a",
      "metadata": {
        "id": "da7bb70a",
        "colab": {
          "base_uri": "https://localhost:8080/"
        },
        "outputId": "c2732e8c-9746-4c85-cf2d-a4af9a50c0b4"
      },
      "outputs": [
        {
          "output_type": "stream",
          "name": "stdout",
          "text": [
            "You are accessing a undefined variable\n",
            "I will always be executed\n"
          ]
        }
      ],
      "source": [
        "try:\n",
        "\n",
        "  print(q)\n",
        "except NameError:\n",
        "  print(\"You are accessing a undefined variable\")\n",
        "except:\n",
        "  print(\"There's an error\")\n",
        "else:\n",
        "  print(\"No Fault detected\")\n",
        "finally:\n",
        "  print(\"I will always be executed\")"
      ]
    },
    {
      "cell_type": "markdown",
      "id": "052d3178",
      "metadata": {
        "id": "052d3178"
      },
      "source": [
        "# Handling Different Errors"
      ]
    },
    {
      "cell_type": "markdown",
      "source": [
        "Handling Zero Division Error"
      ],
      "metadata": {
        "id": "ePROrAnlZWRM"
      },
      "id": "ePROrAnlZWRM"
    },
    {
      "cell_type": "code",
      "source": [
        "try:\n",
        "  numerator = int(input(\"Enter numerator: \"))\n",
        "  denominator = int(input(\"Enter Denominator: \"))\n",
        "\n",
        "  division = numerator/denominator\n",
        "  print(division)\n",
        "except ZeroDivisionError:\n",
        "  print(\"You are trying to divide a number by zero, NOT POSSIBLE!\")\n",
        "\n",
        "except ValueError:\n",
        "  print(\"You can not pass anything but a number\")\n"
      ],
      "metadata": {
        "id": "YVOQ1TEMZHGG",
        "colab": {
          "base_uri": "https://localhost:8080/"
        },
        "outputId": "6423bb98-e916-4074-c743-602149c10cf6"
      },
      "id": "YVOQ1TEMZHGG",
      "execution_count": null,
      "outputs": [
        {
          "output_type": "stream",
          "name": "stdout",
          "text": [
            "Enter numerator: wdqjgdjyg\n",
            "You can not pass anything but a number\n"
          ]
        }
      ]
    },
    {
      "cell_type": "markdown",
      "source": [],
      "metadata": {
        "id": "nVn01Ebi1dMB"
      },
      "id": "nVn01Ebi1dMB"
    },
    {
      "cell_type": "markdown",
      "source": [],
      "metadata": {
        "id": "mHX-tyOh1dOo"
      },
      "id": "mHX-tyOh1dOo"
    },
    {
      "cell_type": "markdown",
      "source": [],
      "metadata": {
        "id": "F3KYtjGt1dRq"
      },
      "id": "F3KYtjGt1dRq"
    },
    {
      "cell_type": "markdown",
      "source": [
        "Handling File Not Found Error"
      ],
      "metadata": {
        "id": "xlaJFJBNZMwa"
      },
      "id": "xlaJFJBNZMwa"
    },
    {
      "cell_type": "code",
      "source": [
        "try:\n",
        "  with open(\"helloworld.txt\", \"r\") as f:\n",
        "    content = f.read()\n",
        "except FileNotFoundError:\n",
        "  print(\"The file you are trying to read, doesnt exist\")"
      ],
      "metadata": {
        "id": "3w5oUQnWZPmV",
        "colab": {
          "base_uri": "https://localhost:8080/"
        },
        "outputId": "4d519c95-629e-4af1-c60a-a7a976bf5c7c"
      },
      "id": "3w5oUQnWZPmV",
      "execution_count": null,
      "outputs": [
        {
          "output_type": "stream",
          "name": "stdout",
          "text": [
            "The file you are trying to read, doesnt exist\n"
          ]
        }
      ]
    },
    {
      "cell_type": "markdown",
      "source": [
        "Exercise - User Input Validation"
      ],
      "metadata": {
        "id": "EYxheCegZR2C"
      },
      "id": "EYxheCegZR2C"
    },
    {
      "cell_type": "code",
      "source": [],
      "metadata": {
        "id": "ZzOPTBxOZcnD"
      },
      "id": "ZzOPTBxOZcnD",
      "execution_count": null,
      "outputs": []
    },
    {
      "cell_type": "markdown",
      "source": [
        "Q2 Implement a Python function that takes a filename as input and prints the number of lines in that file. Test your function with the file \"example.txt\"."
      ],
      "metadata": {
        "id": "i6XFIgbB2ZzZ"
      },
      "id": "i6XFIgbB2ZzZ"
    },
    {
      "cell_type": "code",
      "source": [],
      "metadata": {
        "id": "DyDdNKMk1e3C"
      },
      "id": "DyDdNKMk1e3C",
      "execution_count": null,
      "outputs": []
    },
    {
      "cell_type": "code",
      "source": [
        "with open(\"example.txt\") as f:\n",
        "  lines = f.readline()\n",
        "  print(lines)"
      ],
      "metadata": {
        "colab": {
          "base_uri": "https://localhost:8080/"
        },
        "id": "390Pd8xs1e4P",
        "outputId": "8077ee19-3bc8-484c-c6f9-fa17346d7869"
      },
      "id": "390Pd8xs1e4P",
      "execution_count": null,
      "outputs": [
        {
          "output_type": "stream",
          "name": "stdout",
          "text": [
            "line1\n",
            "\n"
          ]
        }
      ]
    },
    {
      "cell_type": "code",
      "source": [],
      "metadata": {
        "id": "uKa--lSh1fN1"
      },
      "id": "uKa--lSh1fN1",
      "execution_count": null,
      "outputs": []
    }
  ],
  "metadata": {
    "kernelspec": {
      "display_name": "Python 3 (ipykernel)",
      "language": "python",
      "name": "python3"
    },
    "language_info": {
      "codemirror_mode": {
        "name": "ipython",
        "version": 3
      },
      "file_extension": ".py",
      "mimetype": "text/x-python",
      "name": "python",
      "nbconvert_exporter": "python",
      "pygments_lexer": "ipython3",
      "version": "3.11.5"
    },
    "colab": {
      "provenance": []
    }
  },
  "nbformat": 4,
  "nbformat_minor": 5
}