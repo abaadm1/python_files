{
  "nbformat": 4,
  "nbformat_minor": 0,
  "metadata": {
    "colab": {
      "provenance": []
    },
    "kernelspec": {
      "name": "python3",
      "display_name": "Python 3"
    },
    "language_info": {
      "name": "python"
    }
  },
  "cells": [
    {
      "cell_type": "markdown",
      "source": [
        "## Operators"
      ],
      "metadata": {
        "id": "aKJygP7cT3O8"
      }
    },
    {
      "cell_type": "markdown",
      "source": [
        "# Airthmetic Operators"
      ],
      "metadata": {
        "id": "dhB4moXcVGDI"
      }
    },
    {
      "cell_type": "code",
      "source": [
        "x = 10\n",
        "y = 15"
      ],
      "metadata": {
        "id": "BMjEJuwYT5mh"
      },
      "execution_count": 3,
      "outputs": []
    },
    {
      "cell_type": "code",
      "source": [
        "#Addition (+)\n",
        "\n",
        "print(x + y)\n",
        "print(y + x)"
      ],
      "metadata": {
        "colab": {
          "base_uri": "https://localhost:8080/"
        },
        "id": "BGFB7cqxVaCo",
        "outputId": "a46e3ee3-de20-4269-9b90-d0b39b25291e"
      },
      "execution_count": 12,
      "outputs": [
        {
          "output_type": "stream",
          "name": "stdout",
          "text": [
            "25\n",
            "25\n"
          ]
        }
      ]
    },
    {
      "cell_type": "code",
      "source": [
        "#Subtraction (-)\n",
        "\n",
        "print(x - y)\n",
        "print(y - x)"
      ],
      "metadata": {
        "colab": {
          "base_uri": "https://localhost:8080/"
        },
        "id": "evOJy4zDVc_1",
        "outputId": "61edcf37-137e-4e6e-ec23-740bce731d6f"
      },
      "execution_count": 7,
      "outputs": [
        {
          "output_type": "stream",
          "name": "stdout",
          "text": [
            "-5\n",
            "5\n"
          ]
        }
      ]
    },
    {
      "cell_type": "code",
      "source": [
        "a = 25\n",
        "b = 5\n",
        "\n",
        "\n",
        "#Division (/)\n",
        "\n",
        "print(a / b)\n",
        "print(b / a)"
      ],
      "metadata": {
        "colab": {
          "base_uri": "https://localhost:8080/"
        },
        "id": "U-NMMVGmV2rA",
        "outputId": "ee1603ac-df5c-40c7-d767-f7110cd0ad03"
      },
      "execution_count": 10,
      "outputs": [
        {
          "output_type": "stream",
          "name": "stdout",
          "text": [
            "5.0\n",
            "0.2\n"
          ]
        }
      ]
    },
    {
      "cell_type": "code",
      "source": [
        "x1 = 10\n",
        "x2 = 4\n",
        "\n",
        "\n",
        "#Multiplication (*)\n",
        "\n",
        "print(x1 * x2)\n",
        "print(x2 * x1)"
      ],
      "metadata": {
        "colab": {
          "base_uri": "https://localhost:8080/"
        },
        "id": "MLOmJ6XAV_ao",
        "outputId": "1334868d-46f9-44c6-ff31-9e936f6d952f"
      },
      "execution_count": 18,
      "outputs": [
        {
          "output_type": "stream",
          "name": "stdout",
          "text": [
            "40\n",
            "40\n"
          ]
        }
      ]
    },
    {
      "cell_type": "code",
      "source": [
        "a = 21\n",
        "b = 7\n",
        "\n",
        "#Modulus (%) --> Returns the remainder\n",
        "\n",
        "print(a % b)\n"
      ],
      "metadata": {
        "colab": {
          "base_uri": "https://localhost:8080/"
        },
        "id": "KWHUNFIKXoFW",
        "outputId": "10c70817-282c-4122-a19c-c4dc21421eb2"
      },
      "execution_count": 21,
      "outputs": [
        {
          "output_type": "stream",
          "name": "stdout",
          "text": [
            "0\n",
            "3.0\n"
          ]
        }
      ]
    },
    {
      "cell_type": "code",
      "source": [
        "x = 2\n",
        "y = 5\n",
        "\n",
        "#Exponent (**) --> Taking Power\n",
        "\n",
        "print(x ** y)\n"
      ],
      "metadata": {
        "colab": {
          "base_uri": "https://localhost:8080/"
        },
        "id": "UMlC_MmYZHUJ",
        "outputId": "a55b8bb7-0f11-4342-a274-373fa5393ed3"
      },
      "execution_count": 26,
      "outputs": [
        {
          "output_type": "stream",
          "name": "stdout",
          "text": [
            "32\n"
          ]
        }
      ]
    },
    {
      "cell_type": "markdown",
      "source": [
        "# Comparison Operators"
      ],
      "metadata": {
        "id": "mEZnbLJqaX5N"
      }
    },
    {
      "cell_type": "code",
      "source": [
        "a = 1000\n",
        "b = 99\n",
        "\n",
        "\n",
        "#Greater than (>)\n",
        "print(a > b)\n",
        "print(b > a)\n",
        "print(a > a)"
      ],
      "metadata": {
        "colab": {
          "base_uri": "https://localhost:8080/"
        },
        "id": "0sDgMt39ab5c",
        "outputId": "de93f89e-4704-484f-ab96-f516bf27ef78"
      },
      "execution_count": 29,
      "outputs": [
        {
          "output_type": "stream",
          "name": "stdout",
          "text": [
            "True\n",
            "False\n",
            "False\n"
          ]
        }
      ]
    },
    {
      "cell_type": "code",
      "source": [
        "a = -100\n",
        "b = 25\n",
        "\n",
        "#Less than (<)\n",
        "print(a < b)\n",
        "print(b < a)"
      ],
      "metadata": {
        "colab": {
          "base_uri": "https://localhost:8080/"
        },
        "id": "6CdIN4lFbASm",
        "outputId": "c75887e5-97a6-4f44-8ed7-ff5cb9e18828"
      },
      "execution_count": 33,
      "outputs": [
        {
          "output_type": "stream",
          "name": "stdout",
          "text": [
            "True\n",
            "False\n"
          ]
        }
      ]
    },
    {
      "cell_type": "code",
      "source": [
        "a = 1000\n",
        "b = 99\n",
        "\n",
        "#Greater Than or Equal to (>=)\n",
        "print(a >= b)\n",
        "print(b >= a)\n",
        "print(a >= a)"
      ],
      "metadata": {
        "colab": {
          "base_uri": "https://localhost:8080/"
        },
        "id": "n3obPUvNbXKs",
        "outputId": "66e1b6fd-6379-4adf-8f1f-2c64cb69a530"
      },
      "execution_count": 36,
      "outputs": [
        {
          "output_type": "stream",
          "name": "stdout",
          "text": [
            "True\n",
            "False\n",
            "True\n"
          ]
        }
      ]
    },
    {
      "cell_type": "code",
      "source": [
        "x1 = 5000\n",
        "y1 = 3000\n",
        "\n",
        "#Less than or Equal To (<=)\n",
        "print(x1 <= y1)\n",
        "print(y1 <= x1)\n",
        "print(y1 <= y1)"
      ],
      "metadata": {
        "colab": {
          "base_uri": "https://localhost:8080/"
        },
        "id": "yGfA3WBpb4js",
        "outputId": "c38cbc67-8c5e-419c-e312-1f6daed8b739"
      },
      "execution_count": 39,
      "outputs": [
        {
          "output_type": "stream",
          "name": "stdout",
          "text": [
            "False\n",
            "True\n",
            "True\n"
          ]
        }
      ]
    },
    {
      "cell_type": "code",
      "source": [
        "x = 65\n",
        "y = 55\n",
        "z = 65\n",
        "\n",
        "#Equality (==)\n",
        "print(x == y)\n",
        "print(x == z)\n",
        "print(x == x)"
      ],
      "metadata": {
        "colab": {
          "base_uri": "https://localhost:8080/"
        },
        "id": "QllUJP2ucyne",
        "outputId": "98160932-6439-442d-af59-b7a91c3eb0e6"
      },
      "execution_count": 43,
      "outputs": [
        {
          "output_type": "stream",
          "name": "stdout",
          "text": [
            "False\n",
            "True\n",
            "True\n"
          ]
        }
      ]
    },
    {
      "cell_type": "code",
      "source": [
        "x = 65\n",
        "y = 55\n",
        "z = 65\n",
        "\n",
        "#Not Equal (!=)\n",
        "print(x != y)\n",
        "print(x != z)"
      ],
      "metadata": {
        "colab": {
          "base_uri": "https://localhost:8080/"
        },
        "id": "eHiIcGZldQX1",
        "outputId": "8ba9f927-2b4e-43aa-e58d-4f8c3dca871a"
      },
      "execution_count": 45,
      "outputs": [
        {
          "output_type": "stream",
          "name": "stdout",
          "text": [
            "True\n",
            "False\n"
          ]
        }
      ]
    },
    {
      "cell_type": "markdown",
      "source": [
        "# Assignment Operators"
      ],
      "metadata": {
        "id": "pXx4joyUd7Hc"
      }
    },
    {
      "cell_type": "code",
      "source": [
        "#Simple Assignment (=)\n",
        "\n",
        "x = 55\n",
        "y = 99\n",
        "\n",
        "z = x * y\n",
        "print(z)"
      ],
      "metadata": {
        "colab": {
          "base_uri": "https://localhost:8080/"
        },
        "id": "lRA7kc_Id_If",
        "outputId": "7c5af8f9-59c8-4d27-db56-76297d404807"
      },
      "execution_count": 50,
      "outputs": [
        {
          "output_type": "stream",
          "name": "stdout",
          "text": [
            "5445\n"
          ]
        }
      ]
    },
    {
      "cell_type": "code",
      "source": [
        "x = 10\n",
        "y = 20\n",
        "\n",
        "#Addition Assignment\n",
        "x += y #x = x+y\n",
        "print(x)\n",
        "\n",
        "#Example 02\n",
        "a = 100\n",
        "b = 5\n",
        "\n",
        "a += b\n",
        "#a = a+b\n",
        "print(a)"
      ],
      "metadata": {
        "colab": {
          "base_uri": "https://localhost:8080/"
        },
        "id": "-uO6vpv2ekrp",
        "outputId": "da630aa7-31b3-44ea-9ba9-410183091cf1"
      },
      "execution_count": 52,
      "outputs": [
        {
          "output_type": "stream",
          "name": "stdout",
          "text": [
            "30\n",
            "105\n"
          ]
        }
      ]
    },
    {
      "cell_type": "code",
      "source": [
        "x = 100\n",
        "y = 10\n",
        "\n",
        "#Subtraction Assignment\n",
        "x -= y\n",
        "#x = x-y\n",
        "#x = 100-90\n",
        "print(x)"
      ],
      "metadata": {
        "colab": {
          "base_uri": "https://localhost:8080/"
        },
        "id": "DgXCzAFIfRCp",
        "outputId": "8297a9c0-6aa9-4b05-a9bb-03819e9bd90b"
      },
      "execution_count": 53,
      "outputs": [
        {
          "output_type": "stream",
          "name": "stdout",
          "text": [
            "90\n"
          ]
        }
      ]
    },
    {
      "cell_type": "code",
      "source": [
        "x = 100\n",
        "y = 10"
      ],
      "metadata": {
        "id": "PqrAJ923f6hg"
      },
      "execution_count": null,
      "outputs": []
    },
    {
      "cell_type": "markdown",
      "source": [
        "## Control Flow"
      ],
      "metadata": {
        "id": "URskvEAdg11b"
      }
    },
    {
      "cell_type": "markdown",
      "source": [
        "#If - Statement"
      ],
      "metadata": {
        "id": "LaJ-sKjng41V"
      }
    },
    {
      "cell_type": "code",
      "source": [
        "temperature = 55\n",
        "\n",
        "if (temperature > 50):\n",
        "  print(\"It is hot today\")\n"
      ],
      "metadata": {
        "id": "Um8W1Sseg7s-"
      },
      "execution_count": 63,
      "outputs": []
    },
    {
      "cell_type": "code",
      "source": [
        "age = 16\n",
        "\n",
        "if (age >= 18):\n",
        "  print(\"You're eligible!\")\n"
      ],
      "metadata": {
        "id": "Rx5TsD6vjtVX"
      },
      "execution_count": 65,
      "outputs": []
    },
    {
      "cell_type": "markdown",
      "source": [
        "## If - Else - Statement"
      ],
      "metadata": {
        "id": "90cClIYwkaMd"
      }
    },
    {
      "cell_type": "code",
      "source": [
        "temperature = 55\n",
        "\n",
        "if (temperature > 50):\n",
        "  print(\"It is hot today\")\n",
        "\n",
        "else:\n",
        "  print(\"It is not hot today\")"
      ],
      "metadata": {
        "colab": {
          "base_uri": "https://localhost:8080/"
        },
        "id": "GEjO5NnEkYco",
        "outputId": "92405707-34f7-4477-fa35-280d1c986229"
      },
      "execution_count": 69,
      "outputs": [
        {
          "output_type": "stream",
          "name": "stdout",
          "text": [
            "It is hot today\n"
          ]
        }
      ]
    },
    {
      "cell_type": "code",
      "source": [
        "age = 45\n",
        "\n",
        "if (age >= 18):\n",
        "  print(\"You're eligible!\")\n",
        "else:\n",
        "  print(\"You're not eligible!\")"
      ],
      "metadata": {
        "colab": {
          "base_uri": "https://localhost:8080/"
        },
        "id": "DcAwQsRsk-me",
        "outputId": "ffb9653c-7408-49a0-89eb-7b578314534e"
      },
      "execution_count": 71,
      "outputs": [
        {
          "output_type": "stream",
          "name": "stdout",
          "text": [
            "You're eligible!\n"
          ]
        }
      ]
    },
    {
      "cell_type": "code",
      "source": [
        "#user input\n",
        "\n",
        "age = int(input(\"Enter your age: \"))\n",
        "\n",
        "if (age >= 18):\n",
        "  print(\"You're eligible!\")\n",
        "else:\n",
        "  print(\"You're not eligible!\")"
      ],
      "metadata": {
        "colab": {
          "base_uri": "https://localhost:8080/"
        },
        "id": "tIhg7ktIlXnI",
        "outputId": "4e959316-2bf6-4161-9337-127ff75b662e"
      },
      "execution_count": 76,
      "outputs": [
        {
          "output_type": "stream",
          "name": "stdout",
          "text": [
            "Enter your age: 15\n",
            "You're not eligible!\n"
          ]
        }
      ]
    },
    {
      "cell_type": "code",
      "source": [
        "#user input\n",
        "\n",
        "name = input(\"Enter you Name: \")\n",
        "age = int(input(\"Enter your age: \"))\n",
        "course = input(\"Course Name: \")\n",
        "\n",
        "\n",
        "print(name)\n",
        "print(age)\n",
        "print(course)"
      ],
      "metadata": {
        "colab": {
          "base_uri": "https://localhost:8080/"
        },
        "id": "yZTz_kb6nDBm",
        "outputId": "92da6b2c-bc86-4281-a40c-e774948baad4"
      },
      "execution_count": 75,
      "outputs": [
        {
          "output_type": "stream",
          "name": "stdout",
          "text": [
            "Enter you Name: abc\n",
            "Enter your age: 78\n",
            "Course Name: xyz\n",
            "abc\n",
            "78\n",
            "xyz\n"
          ]
        }
      ]
    },
    {
      "cell_type": "markdown",
      "source": [
        "If - Elif - Else Statement"
      ],
      "metadata": {
        "id": "OBtjkVewn-0i"
      }
    },
    {
      "cell_type": "code",
      "source": [
        "weekday = int(input(\"Enter the number of day of the week:\"))\n",
        "\n",
        "if (weekday == 1):\n",
        "  print(\"Day is monday\")\n",
        "elif (weekday == 2):\n",
        "  print(\"Day is tuesday\")\n",
        "elif (weekday == 3):\n",
        "  print(\"Day is wednesday\")\n",
        "elif (weekday == 4):\n",
        "  print(\"Day is Thursday\")\n",
        "elif (weekday == 5):\n",
        "  print(\"Day is friday\")\n",
        "elif (weekday == 6):\n",
        "  print(\"Day is saturday\")\n",
        "elif (weekday == 7):\n",
        "  print(\"Day is sunday\")\n",
        "else:\n",
        "  print(\"You have entered wrong number\")\n"
      ],
      "metadata": {
        "colab": {
          "base_uri": "https://localhost:8080/"
        },
        "id": "p3wdAgDVn-LJ",
        "outputId": "ba2a5a75-3d2f-411a-d067-dbd692be3edd"
      },
      "execution_count": 78,
      "outputs": [
        {
          "output_type": "stream",
          "name": "stdout",
          "text": [
            "Enter the number of day of the week:15\n",
            "You have entered wrong number\n"
          ]
        }
      ]
    },
    {
      "cell_type": "code",
      "source": [
        "grade = input(\"Enter your Grade: \")\n",
        "\n",
        "if (grade == \"A\"):\n",
        "  print(\"Excellent\")\n",
        "elif (grade == \"B\"):\n",
        "  print(\"Good\")\n",
        "elif (grade == \"C\"):\n",
        "  print(\"Needs Improvement\")\n",
        "elif (grade == \"D\"):\n",
        "  print(\"You're Fail\")\n",
        "else:\n",
        "  print(\"Invalid Grade\")"
      ],
      "metadata": {
        "colab": {
          "base_uri": "https://localhost:8080/"
        },
        "id": "DU_izaENp3mu",
        "outputId": "f16ada5c-8380-4af7-c939-23b9067a9ea9"
      },
      "execution_count": 81,
      "outputs": [
        {
          "output_type": "stream",
          "name": "stdout",
          "text": [
            "Enter your Grade: P\n",
            "Invalid Grade\n"
          ]
        }
      ]
    }
  ]
}